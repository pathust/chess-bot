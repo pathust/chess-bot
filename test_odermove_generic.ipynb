{
 "cells": [
  {
   "cell_type": "markdown",
   "metadata": {},
   "source": [
    "# Chuẩn bị"
   ]
  },
  {
   "cell_type": "markdown",
   "metadata": {},
   "source": [
    "\n",
    "\n",
    "1. Tải dataset từ https://www.kaggle.com/code/gabrielhaselhurst/chess-dataset/input\n",
    "\n",
    "2. Di chuyển file này vào thư mục chess-bot"
   ]
  },
  {
   "cell_type": "markdown",
   "metadata": {},
   "source": [
    "## Import thư viện cần thiết"
   ]
  },
  {
   "cell_type": "code",
   "execution_count": null,
   "metadata": {},
   "outputs": [],
   "source": [
    "import numpy as np\n",
    "import matplotlib.pyplot as plt\n",
    "import chess\n",
    "import time\n",
    "from typing import List\n",
    "import pandas as pd\n",
    "from IPython.display import display, SVG, HTML\n",
    "import math\n",
    "from evaluation.static_evaluation import evaluate_board\n",
    "from bot import ChessBot\n"
   ]
  },
  {
   "cell_type": "markdown",
   "metadata": {},
   "source": [
    "## Lấy tập dữ liệu"
   ]
  },
  {
   "cell_type": "code",
   "execution_count": null,
   "metadata": {},
   "outputs": [
    {
     "ename": "FileNotFoundError",
     "evalue": "[Errno 2] No such file or directory: 'chessData.csv'",
     "output_type": "error",
     "traceback": [
      "\u001b[1;31m---------------------------------------------------------------------------\u001b[0m",
      "\u001b[1;31mFileNotFoundError\u001b[0m                         Traceback (most recent call last)",
      "Cell \u001b[1;32mIn[3], line 1\u001b[0m\n\u001b[1;32m----> 1\u001b[0m df \u001b[38;5;241m=\u001b[39m \u001b[43mpd\u001b[49m\u001b[38;5;241;43m.\u001b[39;49m\u001b[43mread_csv\u001b[49m\u001b[43m(\u001b[49m\u001b[38;5;124;43m'\u001b[39;49m\u001b[38;5;124;43mchessData.csv\u001b[39;49m\u001b[38;5;124;43m'\u001b[39;49m\u001b[43m)\u001b[49m\n\u001b[0;32m      2\u001b[0m df\u001b[38;5;241m.\u001b[39mhead()\n",
      "File \u001b[1;32mc:\\Users\\ADMIN\\Downloads\\code\\chess\\chess-bot\\chess-bot\\.venv\\lib\\site-packages\\pandas\\io\\parsers\\readers.py:1026\u001b[0m, in \u001b[0;36mread_csv\u001b[1;34m(filepath_or_buffer, sep, delimiter, header, names, index_col, usecols, dtype, engine, converters, true_values, false_values, skipinitialspace, skiprows, skipfooter, nrows, na_values, keep_default_na, na_filter, verbose, skip_blank_lines, parse_dates, infer_datetime_format, keep_date_col, date_parser, date_format, dayfirst, cache_dates, iterator, chunksize, compression, thousands, decimal, lineterminator, quotechar, quoting, doublequote, escapechar, comment, encoding, encoding_errors, dialect, on_bad_lines, delim_whitespace, low_memory, memory_map, float_precision, storage_options, dtype_backend)\u001b[0m\n\u001b[0;32m   1013\u001b[0m kwds_defaults \u001b[38;5;241m=\u001b[39m _refine_defaults_read(\n\u001b[0;32m   1014\u001b[0m     dialect,\n\u001b[0;32m   1015\u001b[0m     delimiter,\n\u001b[1;32m   (...)\u001b[0m\n\u001b[0;32m   1022\u001b[0m     dtype_backend\u001b[38;5;241m=\u001b[39mdtype_backend,\n\u001b[0;32m   1023\u001b[0m )\n\u001b[0;32m   1024\u001b[0m kwds\u001b[38;5;241m.\u001b[39mupdate(kwds_defaults)\n\u001b[1;32m-> 1026\u001b[0m \u001b[38;5;28;01mreturn\u001b[39;00m \u001b[43m_read\u001b[49m\u001b[43m(\u001b[49m\u001b[43mfilepath_or_buffer\u001b[49m\u001b[43m,\u001b[49m\u001b[43m \u001b[49m\u001b[43mkwds\u001b[49m\u001b[43m)\u001b[49m\n",
      "File \u001b[1;32mc:\\Users\\ADMIN\\Downloads\\code\\chess\\chess-bot\\chess-bot\\.venv\\lib\\site-packages\\pandas\\io\\parsers\\readers.py:620\u001b[0m, in \u001b[0;36m_read\u001b[1;34m(filepath_or_buffer, kwds)\u001b[0m\n\u001b[0;32m    617\u001b[0m _validate_names(kwds\u001b[38;5;241m.\u001b[39mget(\u001b[38;5;124m\"\u001b[39m\u001b[38;5;124mnames\u001b[39m\u001b[38;5;124m\"\u001b[39m, \u001b[38;5;28;01mNone\u001b[39;00m))\n\u001b[0;32m    619\u001b[0m \u001b[38;5;66;03m# Create the parser.\u001b[39;00m\n\u001b[1;32m--> 620\u001b[0m parser \u001b[38;5;241m=\u001b[39m TextFileReader(filepath_or_buffer, \u001b[38;5;241m*\u001b[39m\u001b[38;5;241m*\u001b[39mkwds)\n\u001b[0;32m    622\u001b[0m \u001b[38;5;28;01mif\u001b[39;00m chunksize \u001b[38;5;129;01mor\u001b[39;00m iterator:\n\u001b[0;32m    623\u001b[0m     \u001b[38;5;28;01mreturn\u001b[39;00m parser\n",
      "File \u001b[1;32mc:\\Users\\ADMIN\\Downloads\\code\\chess\\chess-bot\\chess-bot\\.venv\\lib\\site-packages\\pandas\\io\\parsers\\readers.py:1620\u001b[0m, in \u001b[0;36mTextFileReader.__init__\u001b[1;34m(self, f, engine, **kwds)\u001b[0m\n\u001b[0;32m   1617\u001b[0m     \u001b[38;5;28mself\u001b[39m\u001b[38;5;241m.\u001b[39moptions[\u001b[38;5;124m\"\u001b[39m\u001b[38;5;124mhas_index_names\u001b[39m\u001b[38;5;124m\"\u001b[39m] \u001b[38;5;241m=\u001b[39m kwds[\u001b[38;5;124m\"\u001b[39m\u001b[38;5;124mhas_index_names\u001b[39m\u001b[38;5;124m\"\u001b[39m]\n\u001b[0;32m   1619\u001b[0m \u001b[38;5;28mself\u001b[39m\u001b[38;5;241m.\u001b[39mhandles: IOHandles \u001b[38;5;241m|\u001b[39m \u001b[38;5;28;01mNone\u001b[39;00m \u001b[38;5;241m=\u001b[39m \u001b[38;5;28;01mNone\u001b[39;00m\n\u001b[1;32m-> 1620\u001b[0m \u001b[38;5;28mself\u001b[39m\u001b[38;5;241m.\u001b[39m_engine \u001b[38;5;241m=\u001b[39m \u001b[38;5;28;43mself\u001b[39;49m\u001b[38;5;241;43m.\u001b[39;49m\u001b[43m_make_engine\u001b[49m\u001b[43m(\u001b[49m\u001b[43mf\u001b[49m\u001b[43m,\u001b[49m\u001b[43m \u001b[49m\u001b[38;5;28;43mself\u001b[39;49m\u001b[38;5;241;43m.\u001b[39;49m\u001b[43mengine\u001b[49m\u001b[43m)\u001b[49m\n",
      "File \u001b[1;32mc:\\Users\\ADMIN\\Downloads\\code\\chess\\chess-bot\\chess-bot\\.venv\\lib\\site-packages\\pandas\\io\\parsers\\readers.py:1880\u001b[0m, in \u001b[0;36mTextFileReader._make_engine\u001b[1;34m(self, f, engine)\u001b[0m\n\u001b[0;32m   1878\u001b[0m     \u001b[38;5;28;01mif\u001b[39;00m \u001b[38;5;124m\"\u001b[39m\u001b[38;5;124mb\u001b[39m\u001b[38;5;124m\"\u001b[39m \u001b[38;5;129;01mnot\u001b[39;00m \u001b[38;5;129;01min\u001b[39;00m mode:\n\u001b[0;32m   1879\u001b[0m         mode \u001b[38;5;241m+\u001b[39m\u001b[38;5;241m=\u001b[39m \u001b[38;5;124m\"\u001b[39m\u001b[38;5;124mb\u001b[39m\u001b[38;5;124m\"\u001b[39m\n\u001b[1;32m-> 1880\u001b[0m \u001b[38;5;28mself\u001b[39m\u001b[38;5;241m.\u001b[39mhandles \u001b[38;5;241m=\u001b[39m \u001b[43mget_handle\u001b[49m\u001b[43m(\u001b[49m\n\u001b[0;32m   1881\u001b[0m \u001b[43m    \u001b[49m\u001b[43mf\u001b[49m\u001b[43m,\u001b[49m\n\u001b[0;32m   1882\u001b[0m \u001b[43m    \u001b[49m\u001b[43mmode\u001b[49m\u001b[43m,\u001b[49m\n\u001b[0;32m   1883\u001b[0m \u001b[43m    \u001b[49m\u001b[43mencoding\u001b[49m\u001b[38;5;241;43m=\u001b[39;49m\u001b[38;5;28;43mself\u001b[39;49m\u001b[38;5;241;43m.\u001b[39;49m\u001b[43moptions\u001b[49m\u001b[38;5;241;43m.\u001b[39;49m\u001b[43mget\u001b[49m\u001b[43m(\u001b[49m\u001b[38;5;124;43m\"\u001b[39;49m\u001b[38;5;124;43mencoding\u001b[39;49m\u001b[38;5;124;43m\"\u001b[39;49m\u001b[43m,\u001b[49m\u001b[43m \u001b[49m\u001b[38;5;28;43;01mNone\u001b[39;49;00m\u001b[43m)\u001b[49m\u001b[43m,\u001b[49m\n\u001b[0;32m   1884\u001b[0m \u001b[43m    \u001b[49m\u001b[43mcompression\u001b[49m\u001b[38;5;241;43m=\u001b[39;49m\u001b[38;5;28;43mself\u001b[39;49m\u001b[38;5;241;43m.\u001b[39;49m\u001b[43moptions\u001b[49m\u001b[38;5;241;43m.\u001b[39;49m\u001b[43mget\u001b[49m\u001b[43m(\u001b[49m\u001b[38;5;124;43m\"\u001b[39;49m\u001b[38;5;124;43mcompression\u001b[39;49m\u001b[38;5;124;43m\"\u001b[39;49m\u001b[43m,\u001b[49m\u001b[43m \u001b[49m\u001b[38;5;28;43;01mNone\u001b[39;49;00m\u001b[43m)\u001b[49m\u001b[43m,\u001b[49m\n\u001b[0;32m   1885\u001b[0m \u001b[43m    \u001b[49m\u001b[43mmemory_map\u001b[49m\u001b[38;5;241;43m=\u001b[39;49m\u001b[38;5;28;43mself\u001b[39;49m\u001b[38;5;241;43m.\u001b[39;49m\u001b[43moptions\u001b[49m\u001b[38;5;241;43m.\u001b[39;49m\u001b[43mget\u001b[49m\u001b[43m(\u001b[49m\u001b[38;5;124;43m\"\u001b[39;49m\u001b[38;5;124;43mmemory_map\u001b[39;49m\u001b[38;5;124;43m\"\u001b[39;49m\u001b[43m,\u001b[49m\u001b[43m \u001b[49m\u001b[38;5;28;43;01mFalse\u001b[39;49;00m\u001b[43m)\u001b[49m\u001b[43m,\u001b[49m\n\u001b[0;32m   1886\u001b[0m \u001b[43m    \u001b[49m\u001b[43mis_text\u001b[49m\u001b[38;5;241;43m=\u001b[39;49m\u001b[43mis_text\u001b[49m\u001b[43m,\u001b[49m\n\u001b[0;32m   1887\u001b[0m \u001b[43m    \u001b[49m\u001b[43merrors\u001b[49m\u001b[38;5;241;43m=\u001b[39;49m\u001b[38;5;28;43mself\u001b[39;49m\u001b[38;5;241;43m.\u001b[39;49m\u001b[43moptions\u001b[49m\u001b[38;5;241;43m.\u001b[39;49m\u001b[43mget\u001b[49m\u001b[43m(\u001b[49m\u001b[38;5;124;43m\"\u001b[39;49m\u001b[38;5;124;43mencoding_errors\u001b[39;49m\u001b[38;5;124;43m\"\u001b[39;49m\u001b[43m,\u001b[49m\u001b[43m \u001b[49m\u001b[38;5;124;43m\"\u001b[39;49m\u001b[38;5;124;43mstrict\u001b[39;49m\u001b[38;5;124;43m\"\u001b[39;49m\u001b[43m)\u001b[49m\u001b[43m,\u001b[49m\n\u001b[0;32m   1888\u001b[0m \u001b[43m    \u001b[49m\u001b[43mstorage_options\u001b[49m\u001b[38;5;241;43m=\u001b[39;49m\u001b[38;5;28;43mself\u001b[39;49m\u001b[38;5;241;43m.\u001b[39;49m\u001b[43moptions\u001b[49m\u001b[38;5;241;43m.\u001b[39;49m\u001b[43mget\u001b[49m\u001b[43m(\u001b[49m\u001b[38;5;124;43m\"\u001b[39;49m\u001b[38;5;124;43mstorage_options\u001b[39;49m\u001b[38;5;124;43m\"\u001b[39;49m\u001b[43m,\u001b[49m\u001b[43m \u001b[49m\u001b[38;5;28;43;01mNone\u001b[39;49;00m\u001b[43m)\u001b[49m\u001b[43m,\u001b[49m\n\u001b[0;32m   1889\u001b[0m \u001b[43m\u001b[49m\u001b[43m)\u001b[49m\n\u001b[0;32m   1890\u001b[0m \u001b[38;5;28;01massert\u001b[39;00m \u001b[38;5;28mself\u001b[39m\u001b[38;5;241m.\u001b[39mhandles \u001b[38;5;129;01mis\u001b[39;00m \u001b[38;5;129;01mnot\u001b[39;00m \u001b[38;5;28;01mNone\u001b[39;00m\n\u001b[0;32m   1891\u001b[0m f \u001b[38;5;241m=\u001b[39m \u001b[38;5;28mself\u001b[39m\u001b[38;5;241m.\u001b[39mhandles\u001b[38;5;241m.\u001b[39mhandle\n",
      "File \u001b[1;32mc:\\Users\\ADMIN\\Downloads\\code\\chess\\chess-bot\\chess-bot\\.venv\\lib\\site-packages\\pandas\\io\\common.py:873\u001b[0m, in \u001b[0;36mget_handle\u001b[1;34m(path_or_buf, mode, encoding, compression, memory_map, is_text, errors, storage_options)\u001b[0m\n\u001b[0;32m    868\u001b[0m \u001b[38;5;28;01melif\u001b[39;00m \u001b[38;5;28misinstance\u001b[39m(handle, \u001b[38;5;28mstr\u001b[39m):\n\u001b[0;32m    869\u001b[0m     \u001b[38;5;66;03m# Check whether the filename is to be opened in binary mode.\u001b[39;00m\n\u001b[0;32m    870\u001b[0m     \u001b[38;5;66;03m# Binary mode does not support 'encoding' and 'newline'.\u001b[39;00m\n\u001b[0;32m    871\u001b[0m     \u001b[38;5;28;01mif\u001b[39;00m ioargs\u001b[38;5;241m.\u001b[39mencoding \u001b[38;5;129;01mand\u001b[39;00m \u001b[38;5;124m\"\u001b[39m\u001b[38;5;124mb\u001b[39m\u001b[38;5;124m\"\u001b[39m \u001b[38;5;129;01mnot\u001b[39;00m \u001b[38;5;129;01min\u001b[39;00m ioargs\u001b[38;5;241m.\u001b[39mmode:\n\u001b[0;32m    872\u001b[0m         \u001b[38;5;66;03m# Encoding\u001b[39;00m\n\u001b[1;32m--> 873\u001b[0m         handle \u001b[38;5;241m=\u001b[39m \u001b[38;5;28;43mopen\u001b[39;49m\u001b[43m(\u001b[49m\n\u001b[0;32m    874\u001b[0m \u001b[43m            \u001b[49m\u001b[43mhandle\u001b[49m\u001b[43m,\u001b[49m\n\u001b[0;32m    875\u001b[0m \u001b[43m            \u001b[49m\u001b[43mioargs\u001b[49m\u001b[38;5;241;43m.\u001b[39;49m\u001b[43mmode\u001b[49m\u001b[43m,\u001b[49m\n\u001b[0;32m    876\u001b[0m \u001b[43m            \u001b[49m\u001b[43mencoding\u001b[49m\u001b[38;5;241;43m=\u001b[39;49m\u001b[43mioargs\u001b[49m\u001b[38;5;241;43m.\u001b[39;49m\u001b[43mencoding\u001b[49m\u001b[43m,\u001b[49m\n\u001b[0;32m    877\u001b[0m \u001b[43m            \u001b[49m\u001b[43merrors\u001b[49m\u001b[38;5;241;43m=\u001b[39;49m\u001b[43merrors\u001b[49m\u001b[43m,\u001b[49m\n\u001b[0;32m    878\u001b[0m \u001b[43m            \u001b[49m\u001b[43mnewline\u001b[49m\u001b[38;5;241;43m=\u001b[39;49m\u001b[38;5;124;43m\"\u001b[39;49m\u001b[38;5;124;43m\"\u001b[39;49m\u001b[43m,\u001b[49m\n\u001b[0;32m    879\u001b[0m \u001b[43m        \u001b[49m\u001b[43m)\u001b[49m\n\u001b[0;32m    880\u001b[0m     \u001b[38;5;28;01melse\u001b[39;00m:\n\u001b[0;32m    881\u001b[0m         \u001b[38;5;66;03m# Binary mode\u001b[39;00m\n\u001b[0;32m    882\u001b[0m         handle \u001b[38;5;241m=\u001b[39m \u001b[38;5;28mopen\u001b[39m(handle, ioargs\u001b[38;5;241m.\u001b[39mmode)\n",
      "\u001b[1;31mFileNotFoundError\u001b[0m: [Errno 2] No such file or directory: 'chessData.csv'"
     ]
    }
   ],
   "source": [
    "df = pd.read_csv('chessData.csv')\n",
    "df.head()\n",
    "test_fens = df.sample(n=50, random_state=10)['FEN'].to_list()\n",
    "#nên thay đổi test_fens mỗi thế hệhệ"
   ]
  },
  {
   "cell_type": "markdown",
   "metadata": {},
   "source": [
    "## Visualization"
   ]
  },
  {
   "cell_type": "code",
   "execution_count": null,
   "metadata": {},
   "outputs": [],
   "source": [
    "def showBoard(fens, boards_per_row=5):\n",
    "    total_boards = len(fens)\n",
    "    rows = math.ceil(total_boards / boards_per_row)\n",
    "    \n",
    "    for row in range(rows):\n",
    "        boards_in_row = []\n",
    "        for col in range(boards_per_row):\n",
    "            idx = row * boards_per_row + col\n",
    "            if idx < total_boards:\n",
    "                board = chess.Board(fens[idx])\n",
    "                svg = chess.svg.board(board, size=200)  # Giảm size nếu cần\n",
    "                boards_in_row.append(SVG(svg)._repr_svg_())  # Lấy chuỗi SVG\n",
    "        \n",
    "        # Tạo HTML với flexbox để xếp hàng ngang\n",
    "        html = f\"\"\"\n",
    "        <div style=\"display: flex; flex-wrap: nowrap; gap: 10px; margin: 10px 0;\">\n",
    "            {''.join(boards_in_row)}\n",
    "        </div>\n",
    "        \"\"\"\n",
    "        display(HTML(html))"
   ]
  },
  {
   "cell_type": "code",
   "execution_count": null,
   "metadata": {},
   "outputs": [
    {
     "ename": "NameError",
     "evalue": "name 'df' is not defined",
     "output_type": "error",
     "traceback": [
      "\u001b[1;31m---------------------------------------------------------------------------\u001b[0m",
      "\u001b[1;31mNameError\u001b[0m                                 Traceback (most recent call last)",
      "Cell \u001b[1;32mIn[5], line 1\u001b[0m\n\u001b[1;32m----> 1\u001b[0m showBoard(\u001b[43mdf\u001b[49m\u001b[38;5;241m.\u001b[39msample(n\u001b[38;5;241m=\u001b[39m\u001b[38;5;241m50\u001b[39m, random_state\u001b[38;5;241m=\u001b[39m\u001b[38;5;241m42\u001b[39m)[\u001b[38;5;124m'\u001b[39m\u001b[38;5;124mFEN\u001b[39m\u001b[38;5;124m'\u001b[39m]\u001b[38;5;241m.\u001b[39mto_list())\n",
      "\u001b[1;31mNameError\u001b[0m: name 'df' is not defined"
     ]
    }
   ],
   "source": [
    "showBoard(df.sample(n=50, random_state=42)['FEN'].to_list())"
   ]
  },
  {
   "cell_type": "markdown",
   "metadata": {},
   "source": [
    "# 1. Initialization"
   ]
  },
  {
   "cell_type": "code",
   "execution_count": null,
   "metadata": {},
   "outputs": [
    {
     "name": "stdout",
     "output_type": "stream",
     "text": [
      "[[ 2.52736650e+00 -2.49313119e+00  2.01472052e+00  4.73118676e+00\n",
      "   2.50901371e+00  1.03000000e+02  3.09000000e+02  3.43000000e+02\n",
      "   4.54000000e+02  8.63000000e+02  9.13100000e+03  2.50000000e+01\n",
      "   2.90000000e+01  2.70000000e+01  1.00000000e+00  8.00000000e+00]\n",
      " [ 1.16158555e+00  4.12589023e+00 -4.60958673e+00  6.22087632e-01\n",
      "  -1.09852822e+00  1.19000000e+02  3.08000000e+02  3.06000000e+02\n",
      "   5.27000000e+02  8.54000000e+02  9.57600000e+03  1.40000000e+01\n",
      "   1.30000000e+01  1.00000000e+00  1.00000000e+01  2.00000000e+00]\n",
      " [ 4.46153452e+00 -3.06788714e+00  3.27573797e+00  5.59331711e-01\n",
      "   4.80247171e+00  1.19000000e+02  2.74000000e+02  3.33000000e+02\n",
      "   5.16000000e+02  9.77000000e+02  1.06310000e+04  1.10000000e+01\n",
      "   1.70000000e+01  2.00000000e+00  6.00000000e+00  1.30000000e+01]]\n"
     ]
    }
   ],
   "source": [
    "def initialize_population(size: int):\n",
    "    \"\"\"\n",
    "    Initialize a population with chess-specific value ranges.\n",
    "    \n",
    "    - The first 5 parameters (evaluation weights) are floating-point numbers.\n",
    "    - The remaining parameters (piece values, penalties, multipliers) are integers.\n",
    "\n",
    "    Args:\n",
    "        size (int): Number of individuals in the population.\n",
    "\n",
    "    Returns:\n",
    "        np.ndarray: Population matrix (size, num_params) with meaningful bounds.\n",
    "    \"\"\"\n",
    "    # Define bounds for each gene type\n",
    "    bounds = np.array([\n",
    "    [150, 550],           # square_controlled_by_opponent_pawn_penalty (350 ± 200)\n",
    "    [0, 200],            # captured_piece_value_multiplier (100 ± 100)\n",
    "\n",
    "    [25, 40]             # max_killer_move_ply(32 ± 7)\n",
    "    [90_000, 110_000],   # hash_move_score (100k ± 10%)\n",
    "    [6_000, 10_000],     # winning_capture_bias (8K ± 2K)\n",
    "    [5_000, 7_000],      # promote_bias (6K ± 1K)\n",
    "    [3_000, 5_000],      # killer_bias (4K ± 1K)\n",
    "    [1_500, 2_000]       # losing_capture_bias (2K ± 500)\n",
    "    ], dtype=int)\n",
    "\n",
    "    num_params = len(bounds)\n",
    "\n",
    "    # Generate population matrix\n",
    "    population = np.zeros((size, num_params))\n",
    "\n",
    "    for i in range(num_params):\n",
    "        low, high = bounds[i]\n",
    "        population[:, i] = np.random.randint(low, high + 1, size=size)\n",
    "    return population\n",
    "\n",
    "# Generate population with 200 individuals\n",
    "population = initialize_population(20)\n",
    "\n",
    "# Print first 3 individuals for verification\n",
    "print(population[:3])\n"
   ]
  },
  {
   "cell_type": "markdown",
   "metadata": {},
   "source": [
    "# Fitness function"
   ]
  },
  {
   "cell_type": "code",
   "execution_count": null,
   "metadata": {},
   "outputs": [],
   "source": [
    "def fitness_function(weights: List[float]) -> float:\n",
    "    by_time = False # if false fitness by depth\n",
    "    time_limit = 5\n",
    "    nnue_order = False   \n",
    "    #these var should outer the block\n",
    "    if nnue_order:\n",
    "        chess_bot = ChessBot(use_nnue=True)\n",
    "    else:\n",
    "        chess_bot = ChessBot()    \n",
    "    total_fitness = 0\n",
    "    chess_bot.searcher.move_orderer.update_weights(weights)\n",
    "    if by_time:\n",
    "        start = time.perf_counter()\n",
    "        for fen in test_fens:\n",
    "            chess_bot.set_position(fen)\n",
    "            chess_bot.get_best_move(4) # nói thật chỗ này t chưa chắc, tốt nhất là chạy ở 5,6,7 + chưa chắc dùng đúng hàm kk\n",
    "        end = time.perf_counter()\n",
    "        total_fitness= -(end - start) * 1000 #fitness = âm tổng thời gian search;\n",
    "    else:\n",
    "        pass# fitness by depth        \n",
    "    return total_fitness / len(test_fens) # thời gian càng ít càng tốttốt"
   ]
  },
  {
   "cell_type": "markdown",
   "metadata": {},
   "source": [
    "# Selection"
   ]
  },
  {
   "cell_type": "code",
   "execution_count": null,
   "metadata": {},
   "outputs": [],
   "source": [
    "def tournament_selection(population, fitness_scores, tournament_size=5):\n",
    "    \"\"\"\n",
    "    Selects a parent using tournament selection.\n",
    "\n",
    "    Args:\n",
    "        population (np.array): Population of individuals.\n",
    "        fitness_scores (np.array): Fitness scores of individuals.\n",
    "        tournament_size (int): Number of individuals in the tournament.\n",
    "\n",
    "    Returns:\n",
    "        np.array: Selected individual.\n",
    "    \"\"\"\n",
    "    selected_indices = np.random.choice(len(population), tournament_size, replace=False)\n",
    "    best_index = selected_indices[np.argmax(fitness_scores[selected_indices])]\n",
    "    return population[best_index]"
   ]
  },
  {
   "cell_type": "markdown",
   "metadata": {},
   "source": [
    "# Crossover"
   ]
  },
  {
   "cell_type": "code",
   "execution_count": null,
   "metadata": {},
   "outputs": [],
   "source": [
    "def crossover_mixed(parent1, parent2, alpha=0.4, crossover_rate=0.5):\n",
    "    \"\"\"\n",
    "    Perform crossover with an adaptive probability.\n",
    "\n",
    "    Args:\n",
    "        parent1 (np.array): First parent.\n",
    "        parent2 (np.array): Second parent.\n",
    "        alpha (float): Alpha parameter for BLX-α crossover (for floats).\n",
    "        crossover_rate (float): Probability of crossover.\n",
    "\n",
    "    Returns:\n",
    "        np.array: Child with mixed-type values.\n",
    "    \"\"\"\n",
    "    p1, p2 = np.array(parent1), np.array(parent2)\n",
    "    child = np.zeros_like(p1)\n",
    "\n",
    "    for i in range(len(p1)):\n",
    "        \"\"\"if np.random.rand() < crossover_rate:  # Perform crossover with given probability\n",
    "            if i < 5:  # Floating-point genes (evaluation weights)\n",
    "                min_val, max_val = min(p1[i], p2[i]), max(p1[i], p2[i])\n",
    "                range_val = max_val - min_val\n",
    "                child[i] = min_val - alpha * range_val + np.random.rand() * (1 + 2 * alpha) * range_val\n",
    "            else:  # Integer genes\n",
    "                child[i] = np.random.choice([p1[i], p2[i]])\n",
    "        else:\"\"\"\n",
    "        child[i] = np.random.choice([p1[i], p2[i]])  # Inherit directly from a parent\n",
    "    return child\n"
   ]
  },
  {
   "cell_type": "markdown",
   "metadata": {},
   "source": [
    "# Mutation"
   ]
  },
  {
   "cell_type": "code",
   "execution_count": null,
   "metadata": {},
   "outputs": [],
   "source": [
    "def mutate_mixed(individual, mutation_rate=0.3, mutation_strength=0.1):\n",
    "    \"\"\"\n",
    "    Apply adaptive mutation to floating-point and integer genes.\n",
    "\n",
    "    Args:\n",
    "        individual (np.array): Individual's genes.\n",
    "        mutation_rate (float): Probability of mutation.\n",
    "        mutation_strength (float): Mutation intensity.\n",
    "\n",
    "    Returns:\n",
    "        np.array: Mutated individual.\n",
    "    \"\"\"\n",
    "    mutated = np.copy(individual)\n",
    "\n",
    "    for i in range(len(individual)):\n",
    "        if np.random.rand() < mutation_rate:  # Mutation occurs with probability\n",
    "            \"\"\"if i < 5:  # Floating-point mutation (evaluation weights)\n",
    "                mutated[i] += np.random.normal(0, mutation_strength)\n",
    "            else:  # Integer mutation (piece values, penalties, multipliers)\"\"\"\n",
    "            step = np.random.randint(-1, 2)  # Change by -1, 0, or +1\n",
    "            mutated[i] += step\n",
    "\n",
    "    return mutated\n"
   ]
  },
  {
   "cell_type": "code",
   "execution_count": null,
   "metadata": {},
   "outputs": [],
   "source": [
    "def adaptive_mutation_rate(generation, max_generations, min_rate=0.1, max_rate=0.4):\n",
    "    \"\"\"\n",
    "    Adaptive mutation rate: Decreases as generations progress.\n",
    "    \"\"\"\n",
    "    return max_rate - (max_rate - min_rate) * (generation / max_generations)"
   ]
  },
  {
   "cell_type": "code",
   "execution_count": null,
   "metadata": {},
   "outputs": [],
   "source": [
    "\n",
    "def adaptive_crossover_rate(generation, max_generations, min_rate=0.2, max_rate=0.7):\n",
    "    \"\"\"\n",
    "    Adaptive crossover rate: Increases as generations progress.\n",
    "    \"\"\"\n",
    "    return min_rate + (max_rate - min_rate) * (generation / max_generations)\n"
   ]
  },
  {
   "cell_type": "markdown",
   "metadata": {},
   "source": [
    "# GA"
   ]
  },
  {
   "cell_type": "code",
   "execution_count": null,
   "metadata": {},
   "outputs": [],
   "source": [
    "def genetic_algorithm(\n",
    "    fitness_function,\n",
    "    population_size=100,\n",
    "    generations=100,\n",
    "    elite_size=10,\n",
    "    tournament_size=5,\n",
    "    convergence_threshold=20\n",
    "):\n",
    "    \"\"\"\n",
    "    Runs an optimized Genetic Algorithm with adaptive mutation and crossover rates.\n",
    "\n",
    "    Args:\n",
    "        fitness_function (function): Function to evaluate individuals.\n",
    "        population_size (int): Number of individuals.\n",
    "        generations (int): Max number of generations.\n",
    "        elite_size (int): Number of top individuals retained.\n",
    "        tournament_size (int): Tournament selection group size.\n",
    "        convergence_threshold (int): Stop early if no improvement.\n",
    "\n",
    "    Returns:\n",
    "        np.ndarray: Best found individual.\n",
    "        list: Fitness score history.\n",
    "    \"\"\"\n",
    "    population = initialize_population(population_size)\n",
    "    best_fitness_history = []\n",
    "    best_fitness = -np.inf\n",
    "    no_improvement_count = 0\n",
    "\n",
    "    for generation in range(generations):\n",
    "        # Adaptive rates\n",
    "        mutation_rate = adaptive_mutation_rate(generation, generations)\n",
    "        crossover_rate = adaptive_crossover_rate(generation, generations)\n",
    "\n",
    "        # Evaluate fitness for all individuals\n",
    "        fitness_scores = np.array([fitness_function(ind) for ind in population])\n",
    "\n",
    "        # Sort and keep top elite individuals\n",
    "        sorted_indices = np.argsort(fitness_scores)[::-1]\n",
    "        elite = population[sorted_indices[:elite_size]]\n",
    "\n",
    "        # Track best fitness\n",
    "        current_best_fitness = fitness_scores[sorted_indices[0]]\n",
    "        best_fitness_history.append(current_best_fitness)\n",
    "\n",
    "        # Check if fitness improved\n",
    "        if current_best_fitness > best_fitness:\n",
    "            best_fitness = current_best_fitness\n",
    "            no_improvement_count = 0\n",
    "        else:\n",
    "            no_improvement_count += 1\n",
    "\n",
    "        # Stop early if fitness has not improved\n",
    "        if no_improvement_count >= convergence_threshold:\n",
    "            print(f\"✅ Converged after {generation+1} generations! Stopping early.\")\n",
    "            break\n",
    "\n",
    "        # Generate new population\n",
    "        new_population = []\n",
    "        for _ in range(population_size - elite_size):\n",
    "            p1 = tournament_selection(population, fitness_scores, tournament_size)\n",
    "            p2 = tournament_selection(population, fitness_scores, tournament_size)\n",
    "            child = crossover_mixed(p1, p2, crossover_rate=crossover_rate)\n",
    "            child = mutate_mixed(child, mutation_rate, mutation_strength=0.1)\n",
    "            new_population.append(child)\n",
    "\n",
    "        # Create next generation\n",
    "        population = np.vstack((elite, new_population))\n",
    "\n",
    "        print(f\"Generation {generation+1}: Best Fitness = {current_best_fitness:.3f}, Mutation Rate = {mutation_rate:.3f}, Crossover Rate = {crossover_rate:.3f}\")\n",
    "\n",
    "    return population[0], best_fitness_history\n"
   ]
  },
  {
   "cell_type": "markdown",
   "metadata": {},
   "source": [
    "# Tuning"
   ]
  },
  {
   "cell_type": "code",
   "execution_count": null,
   "metadata": {},
   "outputs": [
    {
     "name": "stdout",
     "output_type": "stream",
     "text": [
      "Generation 1: Best Fitness = -292788.993, Mutation Rate = 0.400, Crossover Rate = 0.200\n",
      "Generation 2: Best Fitness = -289485.538, Mutation Rate = 0.399, Crossover Rate = 0.203\n",
      "Generation 3: Best Fitness = -284491.598, Mutation Rate = 0.397, Crossover Rate = 0.205\n",
      "Generation 4: Best Fitness = -284491.598, Mutation Rate = 0.396, Crossover Rate = 0.208\n",
      "Generation 5: Best Fitness = -284344.418, Mutation Rate = 0.394, Crossover Rate = 0.210\n",
      "Generation 6: Best Fitness = -284148.185, Mutation Rate = 0.393, Crossover Rate = 0.213\n",
      "Generation 7: Best Fitness = -283855.504, Mutation Rate = 0.391, Crossover Rate = 0.215\n",
      "Generation 8: Best Fitness = -283855.504, Mutation Rate = 0.390, Crossover Rate = 0.217\n",
      "Generation 9: Best Fitness = -283855.504, Mutation Rate = 0.388, Crossover Rate = 0.220\n",
      "Generation 10: Best Fitness = -283819.161, Mutation Rate = 0.387, Crossover Rate = 0.223\n",
      "Generation 11: Best Fitness = -283776.801, Mutation Rate = 0.385, Crossover Rate = 0.225\n",
      "Generation 12: Best Fitness = -283727.361, Mutation Rate = 0.384, Crossover Rate = 0.228\n",
      "Generation 13: Best Fitness = -283727.361, Mutation Rate = 0.382, Crossover Rate = 0.230\n",
      "Generation 14: Best Fitness = -283706.527, Mutation Rate = 0.381, Crossover Rate = 0.233\n",
      "Generation 15: Best Fitness = -283688.014, Mutation Rate = 0.379, Crossover Rate = 0.235\n",
      "Generation 16: Best Fitness = -283676.257, Mutation Rate = 0.378, Crossover Rate = 0.237\n",
      "Generation 17: Best Fitness = -283647.991, Mutation Rate = 0.376, Crossover Rate = 0.240\n",
      "Generation 18: Best Fitness = -283647.991, Mutation Rate = 0.374, Crossover Rate = 0.242\n",
      "Generation 19: Best Fitness = -283615.549, Mutation Rate = 0.373, Crossover Rate = 0.245\n",
      "Generation 20: Best Fitness = -283608.243, Mutation Rate = 0.371, Crossover Rate = 0.247\n",
      "Generation 21: Best Fitness = -283586.615, Mutation Rate = 0.370, Crossover Rate = 0.250\n",
      "Generation 22: Best Fitness = -283579.506, Mutation Rate = 0.369, Crossover Rate = 0.253\n",
      "Generation 23: Best Fitness = -283548.527, Mutation Rate = 0.367, Crossover Rate = 0.255\n",
      "Generation 24: Best Fitness = -283527.030, Mutation Rate = 0.365, Crossover Rate = 0.258\n",
      "Generation 25: Best Fitness = -283522.812, Mutation Rate = 0.364, Crossover Rate = 0.260\n",
      "Generation 26: Best Fitness = -283518.642, Mutation Rate = 0.363, Crossover Rate = 0.263\n",
      "Generation 27: Best Fitness = -283516.555, Mutation Rate = 0.361, Crossover Rate = 0.265\n",
      "Generation 28: Best Fitness = -283485.159, Mutation Rate = 0.360, Crossover Rate = 0.268\n",
      "Generation 29: Best Fitness = -283472.643, Mutation Rate = 0.358, Crossover Rate = 0.270\n",
      "Generation 30: Best Fitness = -283460.334, Mutation Rate = 0.357, Crossover Rate = 0.272\n",
      "Generation 31: Best Fitness = -283452.625, Mutation Rate = 0.355, Crossover Rate = 0.275\n",
      "Generation 32: Best Fitness = -283418.854, Mutation Rate = 0.354, Crossover Rate = 0.277\n",
      "Generation 33: Best Fitness = -283418.854, Mutation Rate = 0.352, Crossover Rate = 0.280\n",
      "Generation 34: Best Fitness = -283418.854, Mutation Rate = 0.351, Crossover Rate = 0.282\n",
      "Generation 35: Best Fitness = -283412.608, Mutation Rate = 0.349, Crossover Rate = 0.285\n",
      "Generation 36: Best Fitness = -283401.231, Mutation Rate = 0.348, Crossover Rate = 0.287\n",
      "Generation 37: Best Fitness = -283392.701, Mutation Rate = 0.346, Crossover Rate = 0.290\n",
      "Generation 38: Best Fitness = -283390.864, Mutation Rate = 0.345, Crossover Rate = 0.292\n",
      "Generation 39: Best Fitness = -283383.499, Mutation Rate = 0.343, Crossover Rate = 0.295\n",
      "Generation 40: Best Fitness = -283376.504, Mutation Rate = 0.342, Crossover Rate = 0.297\n",
      "Generation 41: Best Fitness = -283366.824, Mutation Rate = 0.340, Crossover Rate = 0.300\n",
      "Generation 42: Best Fitness = -283344.745, Mutation Rate = 0.339, Crossover Rate = 0.302\n",
      "Generation 43: Best Fitness = -283344.745, Mutation Rate = 0.337, Crossover Rate = 0.305\n",
      "Generation 44: Best Fitness = -283344.745, Mutation Rate = 0.336, Crossover Rate = 0.307\n",
      "Generation 45: Best Fitness = -283336.471, Mutation Rate = 0.334, Crossover Rate = 0.310\n",
      "Generation 46: Best Fitness = -283329.738, Mutation Rate = 0.333, Crossover Rate = 0.312\n",
      "Generation 47: Best Fitness = -283323.643, Mutation Rate = 0.331, Crossover Rate = 0.315\n",
      "Generation 48: Best Fitness = -283305.662, Mutation Rate = 0.330, Crossover Rate = 0.318\n",
      "Generation 49: Best Fitness = -283305.662, Mutation Rate = 0.328, Crossover Rate = 0.320\n",
      "Generation 50: Best Fitness = -283303.910, Mutation Rate = 0.327, Crossover Rate = 0.323\n",
      "Generation 51: Best Fitness = -283295.644, Mutation Rate = 0.325, Crossover Rate = 0.325\n",
      "Generation 52: Best Fitness = -283290.214, Mutation Rate = 0.324, Crossover Rate = 0.328\n",
      "Generation 53: Best Fitness = -283286.674, Mutation Rate = 0.322, Crossover Rate = 0.330\n",
      "Generation 54: Best Fitness = -283280.714, Mutation Rate = 0.321, Crossover Rate = 0.333\n",
      "Generation 55: Best Fitness = -283280.714, Mutation Rate = 0.319, Crossover Rate = 0.335\n",
      "Generation 56: Best Fitness = -283278.453, Mutation Rate = 0.318, Crossover Rate = 0.338\n",
      "Generation 57: Best Fitness = -283274.565, Mutation Rate = 0.316, Crossover Rate = 0.340\n",
      "Generation 58: Best Fitness = -283263.356, Mutation Rate = 0.315, Crossover Rate = 0.342\n",
      "Generation 59: Best Fitness = -283263.356, Mutation Rate = 0.313, Crossover Rate = 0.345\n",
      "Generation 60: Best Fitness = -283261.983, Mutation Rate = 0.311, Crossover Rate = 0.347\n",
      "Generation 61: Best Fitness = -283258.508, Mutation Rate = 0.310, Crossover Rate = 0.350\n",
      "Generation 62: Best Fitness = -283256.037, Mutation Rate = 0.308, Crossover Rate = 0.352\n",
      "Generation 63: Best Fitness = -283255.575, Mutation Rate = 0.307, Crossover Rate = 0.355\n",
      "Generation 64: Best Fitness = -283251.769, Mutation Rate = 0.305, Crossover Rate = 0.357\n",
      "Generation 65: Best Fitness = -283249.363, Mutation Rate = 0.304, Crossover Rate = 0.360\n",
      "Generation 66: Best Fitness = -283249.363, Mutation Rate = 0.302, Crossover Rate = 0.362\n",
      "Generation 67: Best Fitness = -283243.613, Mutation Rate = 0.301, Crossover Rate = 0.365\n",
      "Generation 68: Best Fitness = -283238.556, Mutation Rate = 0.299, Crossover Rate = 0.367\n",
      "Generation 69: Best Fitness = -283228.533, Mutation Rate = 0.298, Crossover Rate = 0.370\n",
      "Generation 70: Best Fitness = -283227.106, Mutation Rate = 0.296, Crossover Rate = 0.372\n",
      "Generation 71: Best Fitness = -283226.077, Mutation Rate = 0.295, Crossover Rate = 0.375\n",
      "Generation 72: Best Fitness = -283216.389, Mutation Rate = 0.293, Crossover Rate = 0.377\n",
      "Generation 73: Best Fitness = -283216.389, Mutation Rate = 0.292, Crossover Rate = 0.380\n",
      "Generation 74: Best Fitness = -283211.630, Mutation Rate = 0.290, Crossover Rate = 0.382\n",
      "Generation 75: Best Fitness = -283211.630, Mutation Rate = 0.289, Crossover Rate = 0.385\n",
      "Generation 76: Best Fitness = -283208.555, Mutation Rate = 0.287, Crossover Rate = 0.387\n",
      "Generation 77: Best Fitness = -283208.555, Mutation Rate = 0.286, Crossover Rate = 0.390\n",
      "Generation 78: Best Fitness = -283201.452, Mutation Rate = 0.284, Crossover Rate = 0.392\n",
      "Generation 79: Best Fitness = -283201.452, Mutation Rate = 0.283, Crossover Rate = 0.395\n",
      "Generation 80: Best Fitness = -283201.452, Mutation Rate = 0.281, Crossover Rate = 0.397\n",
      "Generation 81: Best Fitness = -283197.509, Mutation Rate = 0.280, Crossover Rate = 0.400\n",
      "Generation 82: Best Fitness = -283192.544, Mutation Rate = 0.278, Crossover Rate = 0.402\n",
      "Generation 83: Best Fitness = -283189.516, Mutation Rate = 0.277, Crossover Rate = 0.405\n",
      "Generation 84: Best Fitness = -283189.516, Mutation Rate = 0.276, Crossover Rate = 0.407\n",
      "Generation 85: Best Fitness = -283188.064, Mutation Rate = 0.274, Crossover Rate = 0.410\n",
      "Generation 86: Best Fitness = -283186.572, Mutation Rate = 0.273, Crossover Rate = 0.412\n",
      "Generation 87: Best Fitness = -283185.557, Mutation Rate = 0.271, Crossover Rate = 0.415\n",
      "Generation 88: Best Fitness = -283184.090, Mutation Rate = 0.270, Crossover Rate = 0.417\n",
      "Generation 89: Best Fitness = -283182.683, Mutation Rate = 0.268, Crossover Rate = 0.420\n",
      "Generation 90: Best Fitness = -283178.183, Mutation Rate = 0.266, Crossover Rate = 0.422\n",
      "Generation 91: Best Fitness = -283177.335, Mutation Rate = 0.265, Crossover Rate = 0.425\n",
      "Generation 92: Best Fitness = -283172.838, Mutation Rate = 0.263, Crossover Rate = 0.427\n",
      "Generation 93: Best Fitness = -283172.591, Mutation Rate = 0.262, Crossover Rate = 0.430\n",
      "Generation 94: Best Fitness = -283168.445, Mutation Rate = 0.260, Crossover Rate = 0.432\n",
      "Generation 95: Best Fitness = -283165.537, Mutation Rate = 0.259, Crossover Rate = 0.435\n",
      "Generation 96: Best Fitness = -283165.537, Mutation Rate = 0.258, Crossover Rate = 0.438\n",
      "Generation 97: Best Fitness = -283164.262, Mutation Rate = 0.256, Crossover Rate = 0.440\n",
      "Generation 98: Best Fitness = -283164.262, Mutation Rate = 0.255, Crossover Rate = 0.443\n",
      "Generation 99: Best Fitness = -283164.262, Mutation Rate = 0.253, Crossover Rate = 0.445\n",
      "Generation 100: Best Fitness = -283155.330, Mutation Rate = 0.252, Crossover Rate = 0.448\n",
      "Generation 101: Best Fitness = -283155.330, Mutation Rate = 0.250, Crossover Rate = 0.450\n",
      "Generation 102: Best Fitness = -283155.330, Mutation Rate = 0.248, Crossover Rate = 0.452\n",
      "Generation 103: Best Fitness = -283155.330, Mutation Rate = 0.247, Crossover Rate = 0.455\n",
      "Generation 104: Best Fitness = -283153.427, Mutation Rate = 0.245, Crossover Rate = 0.457\n",
      "Generation 105: Best Fitness = -283150.744, Mutation Rate = 0.244, Crossover Rate = 0.460\n",
      "Generation 106: Best Fitness = -283150.744, Mutation Rate = 0.242, Crossover Rate = 0.462\n",
      "Generation 107: Best Fitness = -283150.744, Mutation Rate = 0.241, Crossover Rate = 0.465\n",
      "Generation 108: Best Fitness = -283148.320, Mutation Rate = 0.239, Crossover Rate = 0.467\n",
      "Generation 109: Best Fitness = -283148.320, Mutation Rate = 0.238, Crossover Rate = 0.470\n",
      "Generation 110: Best Fitness = -283145.125, Mutation Rate = 0.236, Crossover Rate = 0.472\n",
      "Generation 111: Best Fitness = -283145.125, Mutation Rate = 0.235, Crossover Rate = 0.475\n",
      "Generation 112: Best Fitness = -283145.125, Mutation Rate = 0.233, Crossover Rate = 0.477\n",
      "Generation 113: Best Fitness = -283145.125, Mutation Rate = 0.232, Crossover Rate = 0.480\n",
      "Generation 114: Best Fitness = -283144.295, Mutation Rate = 0.231, Crossover Rate = 0.482\n",
      "Generation 115: Best Fitness = -283144.295, Mutation Rate = 0.229, Crossover Rate = 0.485\n",
      "Generation 116: Best Fitness = -283143.076, Mutation Rate = 0.228, Crossover Rate = 0.487\n",
      "Generation 117: Best Fitness = -283143.076, Mutation Rate = 0.226, Crossover Rate = 0.490\n",
      "Generation 118: Best Fitness = -283142.153, Mutation Rate = 0.225, Crossover Rate = 0.492\n",
      "Generation 119: Best Fitness = -283142.096, Mutation Rate = 0.223, Crossover Rate = 0.495\n",
      "Generation 120: Best Fitness = -283141.642, Mutation Rate = 0.222, Crossover Rate = 0.497\n",
      "Generation 121: Best Fitness = -283140.846, Mutation Rate = 0.220, Crossover Rate = 0.500\n",
      "Generation 122: Best Fitness = -283139.203, Mutation Rate = 0.218, Crossover Rate = 0.502\n",
      "Generation 123: Best Fitness = -283139.203, Mutation Rate = 0.217, Crossover Rate = 0.505\n",
      "Generation 124: Best Fitness = -283139.093, Mutation Rate = 0.215, Crossover Rate = 0.507\n",
      "Generation 125: Best Fitness = -283139.093, Mutation Rate = 0.214, Crossover Rate = 0.510\n",
      "Generation 126: Best Fitness = -283139.093, Mutation Rate = 0.212, Crossover Rate = 0.512\n",
      "Generation 127: Best Fitness = -283138.912, Mutation Rate = 0.211, Crossover Rate = 0.515\n",
      "Generation 128: Best Fitness = -283138.703, Mutation Rate = 0.209, Crossover Rate = 0.517\n",
      "Generation 129: Best Fitness = -283138.264, Mutation Rate = 0.208, Crossover Rate = 0.520\n",
      "Generation 130: Best Fitness = -283138.168, Mutation Rate = 0.206, Crossover Rate = 0.522\n",
      "Generation 131: Best Fitness = -283138.168, Mutation Rate = 0.205, Crossover Rate = 0.525\n",
      "Generation 132: Best Fitness = -283138.168, Mutation Rate = 0.203, Crossover Rate = 0.527\n",
      "Generation 133: Best Fitness = -283138.168, Mutation Rate = 0.202, Crossover Rate = 0.530\n",
      "Generation 134: Best Fitness = -283138.168, Mutation Rate = 0.200, Crossover Rate = 0.532\n",
      "✅ Converged after 135 generations! Stopping early.\n"
     ]
    },
    {
     "data": {
      "image/png": "[encoded data removed]",
      "text/plain": [
       "<Figure size 640x480 with 1 Axes>"
      ]
     },
     "metadata": {},
     "output_type": "display_data"
    },
    {
     "name": "stdout",
     "output_type": "stream",
     "text": [
      "Optimized Weights: [6.16794464e-01 3.49088090e+00 1.07324170e+00 4.02419631e+00\n",
      " 2.04941519e+00 1.54000000e+02 2.75000000e+02 3.46000000e+02\n",
      " 4.96000000e+02 8.40000000e+02 9.75400000e+03 3.70000000e+01\n",
      " 7.00000000e+00 4.00000000e+00 0.00000000e+00 5.00000000e+00]\n",
      "Suggested weights fitness: -322199.5\n"
     ]
    }
   ],
   "source": [
    "best_weights, best_fitness_history = genetic_algorithm(fitness_function, population_size=200, generations=200, convergence_threshold=5)\n",
    "\n",
    "# Plot Convergence Graph\n",
    "plt.plot(best_fitness_history, label=\"Best Fitness\")\n",
    "plt.xlabel(\"Generation\")\n",
    "plt.ylabel(\"Fitness Score\")\n",
    "plt.title(\"Genetic Algorithm Convergence\")\n",
    "plt.legend()\n",
    "plt.show()\n",
    "\n",
    "print(\"Optimized Weights:\", best_weights)\n",
    "\n",
    "chromosomes = [\n",
    "                1.0, 0.8, -1.2, 0.7, 1.15,\n",
    "                100, 300, 320, 500, 900, 10000,\n",
    "                10, 10,\n",
    "                20,\n",
    "                5,\n",
    "                10\n",
    "            ]\n",
    "print(\"Suggested weights fitness:\", fitness_function(chromosomes))"
   ]
  }
 ],
 "metadata": {
  "kernelspec": {
   "display_name": ".venv",
   "language": "python",
   "name": "python3"
  },
  "language_info": {
   "codemirror_mode": {
    "name": "ipython",
    "version": 3
   },
   "file_extension": ".py",
   "mimetype": "text/x-python",
   "name": "python",
   "nbconvert_exporter": "python",
   "pygments_lexer": "ipython3",
   "version": "3.10.11"
  }
 },
 "nbformat": 4,
 "nbformat_minor": 2
}
