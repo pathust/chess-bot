{
 "cells": [
  {
   "cell_type": "markdown",
   "metadata": {},
   "source": [
    "# Chuẩn bị"
   ]
  },
  {
   "cell_type": "markdown",
   "metadata": {},
   "source": [
    "\n",
    "1. Tải Stockfish từ trang chính thức: https://stockfishchess.org/download/\n",
    "\n",
    "2. Sau khi tải về, đổi tên file `.exe` thành `stockfish`\n",
    "\n",
    "3. Di chuyển file này vào thư mục: `chess-bot/.venv/bin/`\n",
    "\n",
    "4. Tải dataset từ https://www.kaggle.com/code/gabrielhaselhurst/chess-dataset/input\n",
    "\n",
    "5. Di chuyển file này vào thư mục chess-bot\n",
    "\n",
    "6. Vào evaluation vô hiệu 2 dòng hàm load_from_json() trong hàm __init__()."
   ]
  },
  {
   "cell_type": "markdown",
   "metadata": {},
   "source": [
    "## Import thư viện cần thiết"
   ]
  },
  {
   "cell_type": "code",
   "execution_count": 1,
   "metadata": {},
   "outputs": [
    {
     "name": "stdout",
     "output_type": "stream",
     "text": [
      "[8, 9, 16, 17]\n"
     ]
    }
   ],
   "source": [
    "from stockfish import Stockfish\n",
    "import numpy as np\n",
    "import matplotlib.pyplot as plt\n",
    "import chess\n",
    "import chess.svg\n",
    "from typing import List\n",
    "import pandas as pd\n",
    "from IPython.display import display, SVG, HTML\n",
    "import math\n",
    "from evaluation.evaluation import Evaluation\n",
    "from evaluation.piece_square_table import PieceSquareTable\n"
   ]
  },
  {
   "cell_type": "markdown",
   "metadata": {},
   "source": [
    "## Config đường dẫn"
   ]
  },
  {
   "cell_type": "code",
   "execution_count": 2,
   "metadata": {},
   "outputs": [],
   "source": [
    "stockfish_path = \".venv/bin/stockfish\"\n",
    "# stockfish_path = \".venv/Scripts/stockfish.exe\""
   ]
  },
  {
   "cell_type": "markdown",
   "metadata": {},
   "source": [
    "## Stockfish Engine"
   ]
  },
  {
   "cell_type": "code",
   "execution_count": 3,
   "metadata": {},
   "outputs": [],
   "source": [
    "stockfish = Stockfish(stockfish_path)\n",
    "stockfish.set_skill_level(20)\n",
    "stockfish.set_depth(1)"
   ]
  },
  {
   "cell_type": "code",
   "execution_count": 4,
   "metadata": {},
   "outputs": [],
   "source": [
    "def get_stockfish_score(fen: str) -> float:\n",
    "    stockfish.set_fen_position(fen)\n",
    "    score = stockfish.get_evaluation()\n",
    "    return score[\"value\"]"
   ]
  },
  {
   "cell_type": "markdown",
   "metadata": {},
   "source": [
    "## Lấy tập dữ liệu"
   ]
  },
  {
   "cell_type": "code",
   "execution_count": 5,
   "metadata": {},
   "outputs": [
    {
     "data": {
      "text/html": [
       "<div>\n",
       "<style scoped>\n",
       "    .dataframe tbody tr th:only-of-type {\n",
       "        vertical-align: middle;\n",
       "    }\n",
       "\n",
       "    .dataframe tbody tr th {\n",
       "        vertical-align: top;\n",
       "    }\n",
       "\n",
       "    .dataframe thead th {\n",
       "        text-align: right;\n",
       "    }\n",
       "</style>\n",
       "<table border=\"1\" class=\"dataframe\">\n",
       "  <thead>\n",
       "    <tr style=\"text-align: right;\">\n",
       "      <th></th>\n",
       "      <th>FEN</th>\n",
       "      <th>Evaluation</th>\n",
       "    </tr>\n",
       "  </thead>\n",
       "  <tbody>\n",
       "    <tr>\n",
       "      <th>0</th>\n",
       "      <td>rnbqkbnr/pppppppp/8/8/4P3/8/PPPP1PPP/RNBQKBNR ...</td>\n",
       "      <td>-10</td>\n",
       "    </tr>\n",
       "    <tr>\n",
       "      <th>1</th>\n",
       "      <td>rnbqkbnr/pppp1ppp/4p3/8/4P3/8/PPPP1PPP/RNBQKBN...</td>\n",
       "      <td>+56</td>\n",
       "    </tr>\n",
       "    <tr>\n",
       "      <th>2</th>\n",
       "      <td>rnbqkbnr/pppp1ppp/4p3/8/3PP3/8/PPP2PPP/RNBQKBN...</td>\n",
       "      <td>-9</td>\n",
       "    </tr>\n",
       "    <tr>\n",
       "      <th>3</th>\n",
       "      <td>rnbqkbnr/ppp2ppp/4p3/3p4/3PP3/8/PPP2PPP/RNBQKB...</td>\n",
       "      <td>+52</td>\n",
       "    </tr>\n",
       "    <tr>\n",
       "      <th>4</th>\n",
       "      <td>rnbqkbnr/ppp2ppp/4p3/3p4/3PP3/8/PPPN1PPP/R1BQK...</td>\n",
       "      <td>-26</td>\n",
       "    </tr>\n",
       "  </tbody>\n",
       "</table>\n",
       "</div>"
      ],
      "text/plain": [
       "                                                 FEN Evaluation\n",
       "0  rnbqkbnr/pppppppp/8/8/4P3/8/PPPP1PPP/RNBQKBNR ...        -10\n",
       "1  rnbqkbnr/pppp1ppp/4p3/8/4P3/8/PPPP1PPP/RNBQKBN...        +56\n",
       "2  rnbqkbnr/pppp1ppp/4p3/8/3PP3/8/PPP2PPP/RNBQKBN...         -9\n",
       "3  rnbqkbnr/ppp2ppp/4p3/3p4/3PP3/8/PPP2PPP/RNBQKB...        +52\n",
       "4  rnbqkbnr/ppp2ppp/4p3/3p4/3PP3/8/PPPN1PPP/R1BQK...        -26"
      ]
     },
     "execution_count": 5,
     "metadata": {},
     "output_type": "execute_result"
    }
   ],
   "source": [
    "df = pd.read_csv('chessData.csv')\n",
    "df.head()"
   ]
  },
  {
   "cell_type": "code",
   "execution_count": 6,
   "metadata": {},
   "outputs": [
    {
     "name": "stdout",
     "output_type": "stream",
     "text": [
      "[-202, -48, 40, 176, 72, -15, 0, -417, -54, -196, -120, -288, 13, 67, -21, 150, 132, 84, 313, -103, 9, 59, 376, -5, -195, 318, 243, 107, -214, 184, 36, -448, 39, 79, -344, 670, -110, -200, 105, -27, -108, 304, 224, -25, -49, 45, 115, 93, -1, -11, 134, 61, 21, -125, 79, -234, 182, -25, -238, 89, -30, -353, -124, -207, 0, -7, 241, -30, 106, 19, 145, -102, -700, 56, 299, 734, -312, -411, 112, 77, 1, 5, 254, -308, 20, -299, 8, 270, -23, 96, -562, -6, 48, 14, 174, -49, 14, -31, 46, -88, 84, 9, -12, 56, -150, -404, 219, -579, -90, 64, 287, 250, 32, 15, 303, -32, -55, 170, 309, 427, 510, 357, -52, -371, 32, 69, 73, 29, 10, 399, 122, -20, -18, 27, -269, 46, 20, -62, 1, 21, -500, 83, 142, 41, -33, -114, -95, 223, -48, 66, 510, 385, 155, -20, 6, 155, -175, 154, 171, -36, -425, 85, -180, 518, 87, 547, 22, -22, 496, 26, 33, 46, 164, 28, 158, 270, -47, 68, -6, 162, 367, 44, 56, -61, 358, 193, 406, -65, -58, -412, 43, 30, -629, 463, 386, -155, 310, -436, 274, 18, 375, 104, 10, 152, 299, 42, 7, -10, -83, 68, -85, 157, -804, -176, 160, 101, 166, 90, -37, 65, 14, 122, 322, 61, 8, 59, 78, 495, -27, 89, 731, -423, 214, 52, 94, -29, -182, 4, -62, 98, 318, 5, 483, -1, 446, 453, 51, 55, -81, -9, -1, 183, 30, 57, 98, -24, 116, 17, -50, -13, -251, 52, 37, 299, 24, -103, -62, 379, 16, 30, 56, -58, 175, 153, 83, -334, 87, 546, 62, 65, -207, 156, 25, -504, -420, 24, -24, 20, 153, -146, -235, -8, 14, 240, 34, 273, 273, -220, -10, 466, -94, 49, -6, 14, 19, 79, -7, 143, 357, 140, 35, -9, -8, -212, 32, -371, -3, 196, -123, -145, 73, 196, 4, -205, 147, 471, 21, -243, -136, 246, 182, 17, 71, 143, 33, 140, 5, -99, 160, 229, 20, -64, 285, -24, -41, 1, -46, 237, 73, -41, 377, 20, -29, 33, -257, -434, -130, 19, -8, 92, -214, -216, -223, 392, 180, -222, 27, 20, 78, 220, 41, 219, 45, 181, 181, 263, 103, 15, 112, 197, 82, 33, -201, -194, 222, -635, 218, 19, 291, -380, 24, -68, 62, 435, -453, 55, 62, -103, 17, 0, -11, 126, 117, 309, 104, -76, -21, 62, 221, 21, 10, 12, 87, 122, 466, 130, -485, -182, 12, 26, 92, -511, -40, -531, 17, -317, 179, 124, 29, 57, 294, -377, 53, 317, -150, -85, -42, 135, 175, -130, 119, 38, 47, -127, -1, 265, 45, -32, 504, 46, 347, 7, 81, 118, -574, 436, 35, 404, -68, -67, 10, -91, 10, 39, 41, -12, -65, 147, 31, 39, -5, -380, -247, 83, 33, 2, 124, 236, 349, 359, 96, 190, 1, -34, -22, 293, 24, 249, 8, -42, -103, -215, -34, -18, -108, 31, 421, 34, -425, 10, 307, 105, 8, 42, 15, -179, -216, 208, -22, 44, 38, -391, -636, 11, 89, 289, -34, -96, 94, -241, -4, -18, 53, 33, -374, 20, -228, 51, 17, -126, 47, -11, -68, 171, -528, 193, 435, -28, -13, -98, -53, -176, -146, 116, 146, -40, 8, 69, -163, 90, 104, 66, -260, 159, 35, -12, -38, -10, 409, -87, 70, -118, -37, -53, 66, 233, 79, -53, 160, 80, -55, -23, 44, -430, 219, -7, 23, 23, 3, -13, 18, -56, 3, -14, 383, 18, 87, -2, -160, 445, 193, -411, 4, 249, 44, 512, 117, 280, -98, 115, 92, 64, -667, -5, -244, -3, 153, 509, 35, -98, 55, 66, -690, -39, -43, -162, 155, 633, 164, 211, 138, 32, -399, 81, 188, -185, 84, 64, -6, 285, 37, -141, 30, 21, -287, -381, 128, 42, 23, -131, -40, 50, 113, 62, 294, 99, 109, -34, 123, 186, -156, 43, 220, 178, -126, -444, -417, 143, 55, 194, 11, -547, 63, -44, 54, 132, -688, -10, -70, 13, 300, 161, 296, -490, 188, -256, 31, 27, 93, 240, -94, 10, -53, 0, 28, -159, 20, 37, 27, -153, -199, 2, 156, -7, -145, -124, -418, -126, -451, 57, -33, 282, 220, -158, 43, 21, 117, 459, 208, -472, -80, 179, -140, 480, 378, 423, 124, -280, 8, 568, 67, -141, 8, -253, -25, 343, 432, -415, -247, 256, -31, -80, 16, -195, 174, -5, 1, -256, 132, -20, 77, -68, -34, -438, 119, 109, 381, 11, -20, -590, 171, 79, 206, 270, -13, -472, -25, 38, 23, 51, 222, -398, -224, 143, 92, -131, 118, -122, 36, -32, 34, 30, -890, -437, -157, -40, 40, -553, -395, -42, -46, 8, 247, -37, 1, -657, -88, 10, -108, 18, 111, -14, 190, -53, 286, 107, 203, -17, -46, 175, 107, 324, -28, 78, 30, -38, 284, 71, 17, -242, -26, 113, 36, -97, -1, 3, 55, 160, 597, 259, 37, 205, -267, 176, 238, -183, 38, 7, -41, -6, 248, 101, 291, -3, 221, -560, -122, 23, -416, 319, 217, -629, 12, 198, 247, -488, -71, -9, 74, 89, 134, -381, -85, 36, 108, -95, 68, -26, -265, -146, -288, 9, -461, 64, 339, -109, -36, 68, -35, -76, 53, 27, 133, 76, -290, 35, 25, 40, 118, -182, -184, 78, -42, 411, 132, 96, 468, 349, -578, -28, -17, -51, -188, 6, 150, 39, -19, 145, 173, -154, 257, -379, -30, 248, 18, 52, -41, 100, 6, 46, 113, 140, 10, 90, 122, -64, -13, 26, 869, 7, 15, -16, 342, -10, 179, 143, 274, -27, -99, 13, 3, -19, 13, -23, 380, -111, 70, -30, -196, 659, 17, -21, 169, 113, 154, 172, 292, -20, 12, -33, 153, 30, -328, 91, -90, 232, 45, 39, 83, -7, 330, -493, -4, 51, -144, 65, -770, 110, 67, -29, 6, 23, 55, -171, 259, -38, -39, 58, 310, -48, -155, 6, 35, -21, -98, 205, 26, 24, 20, -612, 1, 79, -138, 73, 27, 248, 11, 116, 165, 3]\n",
      "21293\n"
     ]
    }
   ],
   "source": [
    "sampled_df = df.sample(n=1000, random_state=10)\n",
    "test_fens = sampled_df['FEN'].to_list()\n",
    "\"\"\"stockfish_scores = (\n",
    "    sampled_df['Evaluation']\n",
    "    .astype(str)\n",
    "    .str.replace(\"+\", \"\", regex=False)\n",
    "    .str.extract(r'([-]?\\d+)')[0]\n",
    "    .astype(float)\n",
    "    .fillna(0)\n",
    "    .astype(int)\n",
    "    .tolist()\n",
    ")\"\"\"\n",
    "stockfish_scores = [get_stockfish_score(fen) for fen in test_fens]\n",
    "\n",
    "\n",
    "print(stockfish_scores)\n",
    "print(sum(stockfish_scores))"
   ]
  },
  {
   "cell_type": "code",
   "execution_count": 7,
   "metadata": {},
   "outputs": [],
   "source": [
    "sampled_df['Evaluation'] = stockfish_scores\n",
    "sampled_df.to_csv(\"sample.csv\")"
   ]
  },
  {
   "cell_type": "markdown",
   "metadata": {},
   "source": [
    "## Visualization"
   ]
  },
  {
   "cell_type": "code",
   "execution_count": 8,
   "metadata": {},
   "outputs": [],
   "source": [
    "def showBoard(fens, boards_per_row=5):\n",
    "    total_boards = len(fens)\n",
    "    rows = math.ceil(total_boards / boards_per_row)\n",
    "    \n",
    "    for row in range(rows):\n",
    "        boards_in_row = []\n",
    "        for col in range(boards_per_row):\n",
    "            idx = row * boards_per_row + col\n",
    "            if idx < total_boards:\n",
    "                board = chess.Board(fens[idx])\n",
    "                svg = chess.svg.board(board, size=200)  # Giảm size nếu cần\n",
    "                boards_in_row.append(SVG(svg)._repr_svg_())  # Lấy chuỗi SVG\n",
    "        \n",
    "        # Tạo HTML với flexbox để xếp hàng ngang\n",
    "        html = f\"\"\"\n",
    "        <div style=\"display: flex; flex-wrap: nowrap; gap: 10px; margin: 10px 0;\">\n",
    "            {''.join(boards_in_row)}\n",
    "        </div>\n",
    "        \"\"\"\n",
    "        display(HTML(html))"
   ]
  },
  {
   "cell_type": "code",
   "execution_count": 9,
   "metadata": {},
   "outputs": [],
   "source": [
    "#showBoard(df.sample(n=50, random_state=42)['FEN'].to_list())"
   ]
  },
  {
   "cell_type": "markdown",
   "metadata": {},
   "source": [
    "# 1. Initialization"
   ]
  },
  {
   "cell_type": "code",
   "execution_count": 10,
   "metadata": {},
   "outputs": [
    {
     "name": "stdout",
     "output_type": "stream",
     "text": [
      "[[  0.   0.   0. ... -69. -77. -90.]\n",
      " [  0.   0.   0. ... -74. -64. -66.]\n",
      " [  0.   0.   0. ... -69. -79. -82.]]\n"
     ]
    }
   ],
   "source": [
    "piece_square_table_length = len(PieceSquareTable.tables_to_array())\n",
    "evaluation_length = len(Evaluation.to_array())\n",
    "def initialize_population(size: int):\n",
    "    \"\"\"\n",
    "    Initialize a population with chess-specific value ranges.\n",
    "    \n",
    "    - The first 5 parameters (evaluation weights) are floating-point numbers.\n",
    "    - The remaining parameters (piece values, penalties, multipliers) are integers.\n",
    "\n",
    "    Args:\n",
    "        size (int): Number of individuals in the population.\n",
    "\n",
    "    Returns:\n",
    "        np.ndarray: Population matrix (size, num_params) with meaningful bounds.\n",
    "    \"\"\"\n",
    "    array1 = PieceSquareTable.tables_to_array()  \n",
    "    array2 = Evaluation.to_array()  \n",
    "    origin_array = np.concatenate((array1, array2))\n",
    "    # Define bounds for each gene type\n",
    "    bounds = []\n",
    "    for value in origin_array:\n",
    "\n",
    "        lower_bound = min(int(value * 0.8),int(value * 1.2)) \n",
    "        upper_bound = max(int(value * 0.8),int(value * 1.2))\n",
    "        bounds.append([lower_bound, upper_bound])\n",
    "\n",
    "\n",
    "    num_params = len(bounds)\n",
    "\n",
    "    # Generate population matrix\n",
    "    population = np.zeros((size, num_params))\n",
    "\n",
    "    for i in range(num_params):\n",
    "        low, high = bounds[i]\n",
    "        population[:, i] = np.random.randint(low, high + 1, size=size)\n",
    "\n",
    "    return population\n",
    "\n",
    "# Generate population with 200 individuals\n",
    "population = initialize_population(70)\n",
    "\n",
    "# Print first 3 individuals for verification\n",
    "print(population[:3])\n"
   ]
  },
  {
   "cell_type": "markdown",
   "metadata": {},
   "source": [
    "# Fitness function"
   ]
  },
  {
   "cell_type": "code",
   "execution_count": 11,
   "metadata": {},
   "outputs": [],
   "source": [
    "from bisect import bisect_left\n",
    "from typing import List\n",
    "\n",
    "class FenwickTree:\n",
    "    def __init__(self, size):\n",
    "        self.n = size + 2\n",
    "        self.tree = [0] * self.n\n",
    "\n",
    "    def update(self, index, value):\n",
    "        index += 1\n",
    "        while index < self.n:\n",
    "            self.tree[index] += value\n",
    "            index += index & -index\n",
    "\n",
    "    def query(self, index):\n",
    "        index += 1\n",
    "        result = 0\n",
    "        while index:\n",
    "            result += self.tree[index]\n",
    "            index -= index & -index\n",
    "        return result\n",
    "\n",
    "def compute_inversion_cost(A: List[int], B: List[int]) -> int:\n",
    "    n = len(A)\n",
    "    zipped = list(zip(A, B))\n",
    "    zipped.sort()  # Sort A tăng\n",
    "\n",
    "    # Nén giá trị B lại cho nhỏ để dùng Fenwick Tree\n",
    "    sorted_B = sorted(set(B))\n",
    "    B_to_idx = {b: i for i, b in enumerate(sorted_B)}\n",
    "\n",
    "    bit = FenwickTree(len(sorted_B))\n",
    "    cost = 0\n",
    "\n",
    "    for _, b in zipped:\n",
    "        idx = B_to_idx[b]\n",
    "        # Tổng số B đã xét - số lượng B <= b\n",
    "        cost += bit.query(len(sorted_B) - 1) - bit.query(idx)\n",
    "        bit.update(idx, 1)\n",
    "\n",
    "    return cost"
   ]
  },
  {
   "cell_type": "code",
   "execution_count": 12,
   "metadata": {},
   "outputs": [
    {
     "name": "stdout",
     "output_type": "stream",
     "text": [
      "[np.int64(-54), np.int64(-392), np.int64(-25), np.int64(-278), np.int64(145), np.int64(89), np.int64(-43), np.int64(-495), np.int64(-71), np.int64(-382), np.int64(-148), np.int64(53), np.int64(28), np.int64(-256), np.int64(26), np.int64(-427), np.int64(359), np.int64(26), np.int64(-147), np.int64(-309), np.int64(40), np.int64(148), np.int64(-115), np.int64(84), np.int64(-185), np.int64(-10), np.int64(-160), np.int64(177), np.int64(893), np.int64(-273), np.int64(299), np.int64(-32), np.int64(50), np.int64(-186), np.int64(42), np.int64(-32), np.int64(9), np.int64(132), np.int64(251), np.int64(-224), np.int64(-5), np.int64(198), np.int64(-346), np.int64(63), np.int64(-339), np.int64(74), np.int64(90), np.int64(-127), np.int64(-9), np.int64(5), np.int64(-303), np.int64(-165), np.int64(-10), np.int64(-120), np.int64(-105), np.int64(199), np.int64(311), np.int64(-13), np.int64(95), np.int64(-90), np.int64(-10), np.int64(-86), np.int64(-175), np.int64(176), np.int64(-252), np.int64(42), np.int64(-81), np.int64(4), np.int64(-25), np.int64(46), np.int64(-54), np.int64(11), np.int64(-74), np.int64(-149), np.int64(-260), np.int64(28), np.int64(-442), np.int64(-388), np.int64(210), np.int64(-382), np.int64(-245), np.int64(-79), np.int64(-692), np.int64(89), np.int64(40), np.int64(245), np.int64(-144), np.int64(-213), np.int64(147), np.int64(-25), np.int64(-680), np.int64(-22), np.int64(-159), np.int64(20), np.int64(-63), np.int64(79), np.int64(69), np.int64(-161), np.int64(-181), np.int64(86), np.int64(-259), np.int64(-34), np.int64(485), np.int64(-95), np.int64(-68), np.int64(302), np.int64(-143), np.int64(1127), np.int64(-152), np.int64(69), np.int64(260), np.int64(60), np.int64(-99), np.int64(-295), np.int64(-352), np.int64(-99), np.int64(-27), np.int64(87), np.int64(145), np.int64(-435), np.int64(485), np.int64(-102), np.int64(-194), np.int64(143), np.int64(-1093), np.int64(-76), np.int64(180), np.int64(-21), np.int64(-15), np.int64(-383), np.int64(-12), np.int64(-51), np.int64(-5), np.int64(66), np.int64(-10), np.int64(-42), np.int64(195), np.int64(25), np.int64(-256), np.int64(68), np.int64(66), np.int64(-99), np.int64(-239), np.int64(-29), np.int64(15), np.int64(-272), np.int64(-70), np.int64(-856), np.int64(-174), np.int64(-142), np.int64(-701), np.int64(70), np.int64(30), np.int64(-40), np.int64(142), np.int64(-51), np.int64(16), np.int64(-329), np.int64(-600), np.int64(-8), np.int64(61), np.int64(-135), np.int64(-116), np.int64(-398), np.int64(195), np.int64(-250), np.int64(-192), np.int64(26), np.int64(-423), np.int64(114), np.int64(-20), np.int64(-128), np.int64(-151), np.int64(205), np.int64(-12), np.int64(184), np.int64(-835), np.int64(38), np.int64(59), np.int64(48), np.int64(690), np.int64(104), np.int64(55), np.int64(-45), np.int64(324), np.int64(-229), np.int64(98), np.int64(24), np.int64(59), np.int64(-549), np.int64(69), np.int64(120), np.int64(367), np.int64(-877), np.int64(-374), np.int64(-90), np.int64(-112), np.int64(-333), np.int64(-51), np.int64(77), np.int64(188), np.int64(198), np.int64(-15), np.int64(57), np.int64(334), np.int64(-509), np.int64(0), np.int64(-254), np.int64(-60), np.int64(-706), np.int64(35), np.int64(-34), np.int64(1021), np.int64(-29), np.int64(70), np.int64(-133), np.int64(-68), np.int64(-10), np.int64(11), np.int64(-130), np.int64(140), np.int64(-148), np.int64(-165), np.int64(30), np.int64(-52), np.int64(-128), np.int64(26), np.int64(-349), np.int64(-43), np.int64(119), np.int64(-341), np.int64(-8), np.int64(-32), np.int64(-307), np.int64(123), np.int64(116), np.int64(-25), np.int64(73), np.int64(236), np.int64(253), np.int64(-375), np.int64(-30), np.int64(475), np.int64(-260), np.int64(223), np.int64(-482), np.int64(-65), np.int64(-60), np.int64(-150), np.int64(333), np.int64(-125), np.int64(-275), np.int64(85), np.int64(70), np.int64(-55), np.int64(74), np.int64(225), np.int64(19), np.int64(-52), np.int64(55), np.int64(290), np.int64(-180), np.int64(114), np.int64(-769), np.int64(-24), np.int64(-35), np.int64(153), np.int64(-607), np.int64(28), np.int64(106), np.int64(-80), np.int64(64), np.int64(-185), np.int64(-507), np.int64(-142), np.int64(122), np.int64(-31), np.int64(-399), np.int64(8), np.int64(-304), np.int64(63), np.int64(464), np.int64(-126), np.int64(337), np.int64(-259), np.int64(-120), np.int64(-50), np.int64(-161), np.int64(23), np.int64(-88), np.int64(-442), np.int64(-76), np.int64(-443), np.int64(-396), np.int64(-250), np.int64(275), np.int64(-149), np.int64(-410), np.int64(67), np.int64(-660), np.int64(-184), np.int64(-35), np.int64(35), np.int64(-25), np.int64(-27), np.int64(-191), np.int64(267), np.int64(-280), np.int64(-219), np.int64(-53), np.int64(-338), np.int64(-29), np.int64(-61), np.int64(50), np.int64(-90), np.int64(-111), np.int64(34), np.int64(13), np.int64(-920), np.int64(21), np.int64(-24), np.int64(75), np.int64(-579), np.int64(-23), np.int64(11), np.int64(-41), np.int64(-15), np.int64(114), np.int64(-5), np.int64(269), np.int64(-184), np.int64(-145), np.int64(175), np.int64(-14), np.int64(-67), np.int64(-230), np.int64(-88), np.int64(20), np.int64(-89), np.int64(124), np.int64(-60), np.int64(68), np.int64(-82), np.int64(-53), np.int64(254), np.int64(156), np.int64(22), np.int64(222), np.int64(-58), np.int64(-191), np.int64(-509), np.int64(45), np.int64(-185), np.int64(-25), np.int64(378), np.int64(-271), np.int64(1), np.int64(211), np.int64(-247), np.int64(116), np.int64(120), np.int64(-18), np.int64(360), np.int64(268), np.int64(53), np.int64(-249), np.int64(-84), np.int64(-36), np.int64(-57), np.int64(-117), np.int64(-148), np.int64(-11), np.int64(-199), np.int64(-195), np.int64(161), np.int64(-282), np.int64(-296), np.int64(-94), np.int64(70), np.int64(249), np.int64(-55), np.int64(35), np.int64(-115), np.int64(112), np.int64(31), np.int64(155), np.int64(-86), np.int64(164), np.int64(-271), np.int64(-243), np.int64(-30), np.int64(-49), np.int64(81), np.int64(-301), np.int64(415), np.int64(-280), np.int64(-50), np.int64(-97), np.int64(-274), np.int64(-165), np.int64(-439), np.int64(-226), np.int64(81), np.int64(153), np.int64(-47), np.int64(26), np.int64(64), np.int64(-172), np.int64(-265), np.int64(-104), np.int64(-203), np.int64(118), np.int64(-506), np.int64(-3), np.int64(751), np.int64(-4), np.int64(380), np.int64(-325), np.int64(-105), np.int64(11), np.int64(-318), np.int64(10), np.int64(-45), np.int64(54), np.int64(25), np.int64(-68), np.int64(-30), np.int64(-57), np.int64(-314), np.int64(69), np.int64(442), np.int64(-125), np.int64(40), np.int64(-195), np.int64(-55), np.int64(98), np.int64(-123), np.int64(-87), np.int64(-404), np.int64(178), np.int64(-125), np.int64(81), np.int64(-67), np.int64(-25), np.int64(-9), np.int64(-185), np.int64(-171), np.int64(9), np.int64(-275), np.int64(83), np.int64(-370), np.int64(-59), np.int64(-5), np.int64(-229), np.int64(-308), np.int64(-431), np.int64(115), np.int64(-675), np.int64(-15), np.int64(-232), np.int64(-5), np.int64(100), np.int64(-160), np.int64(69), np.int64(129), np.int64(-126), np.int64(-8), np.int64(-29), np.int64(-535), np.int64(43), np.int64(23), np.int64(-384), np.int64(-453), np.int64(-343), np.int64(131), np.int64(-70), np.int64(222), np.int64(-25), np.int64(-575), np.int64(180), np.int64(-175), np.int64(-91), np.int64(-90), np.int64(-139), np.int64(-209), np.int64(-469), np.int64(-40), np.int64(-275), np.int64(41), np.int64(-285), np.int64(-344), np.int64(-149), np.int64(245), np.int64(48), np.int64(84), np.int64(231), np.int64(-456), np.int64(133), np.int64(-11), np.int64(-61), np.int64(235), np.int64(15), np.int64(-292), np.int64(-198), np.int64(-196), np.int64(-196), np.int64(143), np.int64(-325), np.int64(-780), np.int64(103), np.int64(-299), np.int64(175), np.int64(1032), np.int64(-50), np.int64(265), np.int64(-414), np.int64(-28), np.int64(-100), np.int64(-199), np.int64(-162), np.int64(-20), np.int64(-148), np.int64(57), np.int64(-562), np.int64(157), np.int64(22), np.int64(-35), np.int64(114), np.int64(-61), np.int64(69), np.int64(14), np.int64(-121), np.int64(-2), np.int64(229), np.int64(-706), np.int64(60), np.int64(-512), np.int64(344), np.int64(-10), np.int64(-451), np.int64(4), np.int64(44), np.int64(-90), np.int64(-145), np.int64(44), np.int64(-15), np.int64(24), np.int64(54), np.int64(-180), np.int64(69), np.int64(-24), np.int64(-19), np.int64(427), np.int64(37), np.int64(-95), np.int64(-17), np.int64(124), np.int64(-60), np.int64(390), np.int64(-1), np.int64(301), np.int64(-209), np.int64(190), np.int64(-154), np.int64(-40), np.int64(-405), np.int64(47), np.int64(-19), np.int64(-8), np.int64(75), np.int64(-22), np.int64(-85), np.int64(185), np.int64(159), np.int64(-84), np.int64(-309), np.int64(35), np.int64(118), np.int64(-124), np.int64(29), np.int64(63), np.int64(-912), np.int64(-4), np.int64(131), np.int64(-256), np.int64(68), np.int64(-239), np.int64(-13), np.int64(-330), np.int64(-430), np.int64(29), np.int64(268), np.int64(10), np.int64(297), np.int64(-240), np.int64(85), np.int64(-53), np.int64(-194), np.int64(18), np.int64(105), np.int64(-259), np.int64(67), np.int64(178), np.int64(64), np.int64(159), np.int64(3), np.int64(-370), np.int64(-383), np.int64(-235), np.int64(-50), np.int64(19), np.int64(-160), np.int64(256), np.int64(-986), np.int64(-185), np.int64(78), np.int64(-235), np.int64(387), np.int64(279), np.int64(104), np.int64(-26), np.int64(5), np.int64(-410), np.int64(70), np.int64(-216), np.int64(142), np.int64(-52), np.int64(-56), np.int64(-40), np.int64(-105), np.int64(-110), np.int64(-62), np.int64(-107), np.int64(35), np.int64(96), np.int64(270), np.int64(-205), np.int64(-160), np.int64(-19), np.int64(149), np.int64(104), np.int64(-174), np.int64(135), np.int64(-34), np.int64(105), np.int64(-25), np.int64(-146), np.int64(-375), np.int64(162), np.int64(103), np.int64(51), np.int64(-125), np.int64(2), np.int64(0), np.int64(-60), np.int64(-599), np.int64(65), np.int64(-24), np.int64(9), np.int64(-445), np.int64(172), np.int64(-226), np.int64(40), np.int64(-154), np.int64(143), np.int64(-242), np.int64(303), np.int64(-218), np.int64(-1), np.int64(31), np.int64(70), np.int64(-85), np.int64(-20), np.int64(534), np.int64(-61), np.int64(-9), np.int64(70), np.int64(-180), np.int64(-20), np.int64(-129), np.int64(-96), np.int64(-499), np.int64(-68), np.int64(60), np.int64(4), np.int64(-65), np.int64(-45), np.int64(3), np.int64(-125), np.int64(-172), np.int64(-283), np.int64(-20), np.int64(-234), np.int64(89), np.int64(0), np.int64(109), np.int64(-212), np.int64(-371), np.int64(491), np.int64(31), np.int64(45), np.int64(474), np.int64(-315), np.int64(29), np.int64(-1), np.int64(-55), np.int64(-88), np.int64(-794), np.int64(175), np.int64(270), np.int64(156), np.int64(-115), np.int64(-142), np.int64(316), np.int64(-369), np.int64(132), np.int64(60), np.int64(260), np.int64(-320), np.int64(44), np.int64(66), np.int64(-5), np.int64(74), np.int64(-607), np.int64(-35), np.int64(-258), np.int64(-544), np.int64(68), np.int64(41), np.int64(-398), np.int64(-105), np.int64(-35), np.int64(-57), np.int64(-234), np.int64(-258), np.int64(-136), np.int64(46), np.int64(145), np.int64(-62), np.int64(111), np.int64(-169), np.int64(-21), np.int64(-76), np.int64(-385), np.int64(250), np.int64(-364), np.int64(-240), np.int64(55), np.int64(-19), np.int64(-82), np.int64(-135), np.int64(95), np.int64(-94), np.int64(-64), np.int64(-863), np.int64(669), np.int64(13), np.int64(-14), np.int64(-39), np.int64(27), np.int64(182), np.int64(382), np.int64(162), np.int64(-233), np.int64(-13), np.int64(-165), np.int64(-34), np.int64(-280), np.int64(-275), np.int64(39), np.int64(-154), np.int64(-159), np.int64(-75), np.int64(235), np.int64(174), np.int64(95), np.int64(23), np.int64(101), np.int64(175), np.int64(-137), np.int64(5), np.int64(-189), np.int64(63), np.int64(-206), np.int64(15), np.int64(120), np.int64(-161), np.int64(0), np.int64(-135), np.int64(3), np.int64(208), np.int64(-20), np.int64(210), np.int64(40), np.int64(-285), np.int64(-345), np.int64(-244), np.int64(71), np.int64(75), np.int64(-239), np.int64(-145), np.int64(-596), np.int64(95), np.int64(92), np.int64(175), np.int64(-15), np.int64(-396), np.int64(-81), np.int64(-84), np.int64(-224), np.int64(-57), np.int64(-146), np.int64(43), np.int64(-74), np.int64(64), np.int64(-41), np.int64(84), np.int64(-100), np.int64(-1176), np.int64(163), np.int64(-49), np.int64(-170), np.int64(-95), np.int64(-290), np.int64(12), np.int64(104), np.int64(-28), np.int64(153), np.int64(67), np.int64(153), np.int64(-196), np.int64(-564), np.int64(-249), np.int64(130), np.int64(56), np.int64(333), np.int64(51), np.int64(-47), np.int64(145), np.int64(-59), np.int64(-305), np.int64(284), np.int64(163), np.int64(157), np.int64(-109), np.int64(573), np.int64(-209), np.int64(43), np.int64(1), np.int64(-22), np.int64(-174), np.int64(348), np.int64(-26), np.int64(-21), np.int64(48), np.int64(119), np.int64(-9), np.int64(6), np.int64(-59), np.int64(-167), np.int64(-472), np.int64(-49), np.int64(-344), np.int64(1), np.int64(-164), np.int64(24), np.int64(-489), np.int64(-22), np.int64(125), np.int64(5), np.int64(39), np.int64(-70), np.int64(-149), np.int64(-215), np.int64(-237), np.int64(84), np.int64(-180), np.int64(110), np.int64(-146), np.int64(130), np.int64(211), np.int64(57), np.int64(62), np.int64(-131), np.int64(-36), np.int64(311), np.int64(439), np.int64(-307), np.int64(-369), np.int64(-224), np.int64(82), np.int64(129), np.int64(-60), np.int64(46), np.int64(39), np.int64(-60), np.int64(55), np.int64(-84), np.int64(-79), np.int64(-12), np.int64(46), np.int64(-211), np.int64(-37), np.int64(-215), np.int64(42), np.int64(-82), np.int64(-82), np.int64(57), np.int64(204), np.int64(-77), np.int64(-269), np.int64(-358), np.int64(-15), np.int64(-129), np.int64(-256), np.int64(-14), np.int64(-17), np.int64(-110), np.int64(186), np.int64(-840), np.int64(-44), np.int64(-15), np.int64(-93), np.int64(-30), np.int64(-42), np.int64(512), np.int64(188), np.int64(150), np.int64(-493), np.int64(-220), np.int64(73), np.int64(-64), np.int64(-107), np.int64(89), np.int64(-189), np.int64(50), np.int64(-20), np.int64(118), np.int64(208), np.int64(294), np.int64(-54), np.int64(-25), np.int64(-873), np.int64(-144), np.int64(-325), np.int64(-220), np.int64(207), np.int64(0), np.int64(-71), np.int64(80), np.int64(88), np.int64(34), np.int64(-74), np.int64(19), np.int64(190), np.int64(308), np.int64(-199), np.int64(-35), np.int64(31), np.int64(65), np.int64(-296), np.int64(509), np.int64(49), np.int64(-11), np.int64(-7), np.int64(-26), np.int64(-959), np.int64(26), np.int64(0), np.int64(40), np.int64(29), np.int64(-32), np.int64(-75), np.int64(3), np.int64(-680), np.int64(-51), np.int64(-65), np.int64(64), np.int64(-109), np.int64(60), np.int64(-139), np.int64(15), np.int64(-114), np.int64(145), np.int64(125), np.int64(-262), np.int64(49), np.int64(-86), np.int64(-54), np.int64(-341), np.int64(-459), np.int64(244), np.int64(-20), np.int64(50), np.int64(-249), np.int64(266), np.int64(-10), np.int64(69), np.int64(-594), np.int64(-108)]\n",
      "/n\n",
      "[-202, -48, 40, 176, 72, -15, 0, -417, -54, -196, -120, -288, 13, 67, -21, 150, 132, 84, 313, -103, 9, 59, 376, -5, -195, 318, 243, 107, -214, 184, 36, -448, 39, 79, -344, 670, -110, -200, 105, -27, -108, 304, 224, -25, -49, 45, 115, 93, -1, -11, 134, 61, 21, -125, 79, -234, 182, -25, -238, 89, -30, -353, -124, -207, 0, -7, 241, -30, 106, 19, 145, -102, -700, 56, 299, 734, -312, -411, 112, 77, 1, 5, 254, -308, 20, -299, 8, 270, -23, 96, -562, -6, 48, 14, 174, -49, 14, -31, 46, -88, 84, 9, -12, 56, -150, -404, 219, -579, -90, 64, 287, 250, 32, 15, 303, -32, -55, 170, 309, 427, 510, 357, -52, -371, 32, 69, 73, 29, 10, 399, 122, -20, -18, 27, -269, 46, 20, -62, 1, 21, -500, 83, 142, 41, -33, -114, -95, 223, -48, 66, 510, 385, 155, -20, 6, 155, -175, 154, 171, -36, -425, 85, -180, 518, 87, 547, 22, -22, 496, 26, 33, 46, 164, 28, 158, 270, -47, 68, -6, 162, 367, 44, 56, -61, 358, 193, 406, -65, -58, -412, 43, 30, -629, 463, 386, -155, 310, -436, 274, 18, 375, 104, 10, 152, 299, 42, 7, -10, -83, 68, -85, 157, -804, -176, 160, 101, 166, 90, -37, 65, 14, 122, 322, 61, 8, 59, 78, 495, -27, 89, 731, -423, 214, 52, 94, -29, -182, 4, -62, 98, 318, 5, 483, -1, 446, 453, 51, 55, -81, -9, -1, 183, 30, 57, 98, -24, 116, 17, -50, -13, -251, 52, 37, 299, 24, -103, -62, 379, 16, 30, 56, -58, 175, 153, 83, -334, 87, 546, 62, 65, -207, 156, 25, -504, -420, 24, -24, 20, 153, -146, -235, -8, 14, 240, 34, 273, 273, -220, -10, 466, -94, 49, -6, 14, 19, 79, -7, 143, 357, 140, 35, -9, -8, -212, 32, -371, -3, 196, -123, -145, 73, 196, 4, -205, 147, 471, 21, -243, -136, 246, 182, 17, 71, 143, 33, 140, 5, -99, 160, 229, 20, -64, 285, -24, -41, 1, -46, 237, 73, -41, 377, 20, -29, 33, -257, -434, -130, 19, -8, 92, -214, -216, -223, 392, 180, -222, 27, 20, 78, 220, 41, 219, 45, 181, 181, 263, 103, 15, 112, 197, 82, 33, -201, -194, 222, -635, 218, 19, 291, -380, 24, -68, 62, 435, -453, 55, 62, -103, 17, 0, -11, 126, 117, 309, 104, -76, -21, 62, 221, 21, 10, 12, 87, 122, 466, 130, -485, -182, 12, 26, 92, -511, -40, -531, 17, -317, 179, 124, 29, 57, 294, -377, 53, 317, -150, -85, -42, 135, 175, -130, 119, 38, 47, -127, -1, 265, 45, -32, 504, 46, 347, 7, 81, 118, -574, 436, 35, 404, -68, -67, 10, -91, 10, 39, 41, -12, -65, 147, 31, 39, -5, -380, -247, 83, 33, 2, 124, 236, 349, 359, 96, 190, 1, -34, -22, 293, 24, 249, 8, -42, -103, -215, -34, -18, -108, 31, 421, 34, -425, 10, 307, 105, 8, 42, 15, -179, -216, 208, -22, 44, 38, -391, -636, 11, 89, 289, -34, -96, 94, -241, -4, -18, 53, 33, -374, 20, -228, 51, 17, -126, 47, -11, -68, 171, -528, 193, 435, -28, -13, -98, -53, -176, -146, 116, 146, -40, 8, 69, -163, 90, 104, 66, -260, 159, 35, -12, -38, -10, 409, -87, 70, -118, -37, -53, 66, 233, 79, -53, 160, 80, -55, -23, 44, -430, 219, -7, 23, 23, 3, -13, 18, -56, 3, -14, 383, 18, 87, -2, -160, 445, 193, -411, 4, 249, 44, 512, 117, 280, -98, 115, 92, 64, -667, -5, -244, -3, 153, 509, 35, -98, 55, 66, -690, -39, -43, -162, 155, 633, 164, 211, 138, 32, -399, 81, 188, -185, 84, 64, -6, 285, 37, -141, 30, 21, -287, -381, 128, 42, 23, -131, -40, 50, 113, 62, 294, 99, 109, -34, 123, 186, -156, 43, 220, 178, -126, -444, -417, 143, 55, 194, 11, -547, 63, -44, 54, 132, -688, -10, -70, 13, 300, 161, 296, -490, 188, -256, 31, 27, 93, 240, -94, 10, -53, 0, 28, -159, 20, 37, 27, -153, -199, 2, 156, -7, -145, -124, -418, -126, -451, 57, -33, 282, 220, -158, 43, 21, 117, 459, 208, -472, -80, 179, -140, 480, 378, 423, 124, -280, 8, 568, 67, -141, 8, -253, -25, 343, 432, -415, -247, 256, -31, -80, 16, -195, 174, -5, 1, -256, 132, -20, 77, -68, -34, -438, 119, 109, 381, 11, -20, -590, 171, 79, 206, 270, -13, -472, -25, 38, 23, 51, 222, -398, -224, 143, 92, -131, 118, -122, 36, -32, 34, 30, -890, -437, -157, -40, 40, -553, -395, -42, -46, 8, 247, -37, 1, -657, -88, 10, -108, 18, 111, -14, 190, -53, 286, 107, 203, -17, -46, 175, 107, 324, -28, 78, 30, -38, 284, 71, 17, -242, -26, 113, 36, -97, -1, 3, 55, 160, 597, 259, 37, 205, -267, 176, 238, -183, 38, 7, -41, -6, 248, 101, 291, -3, 221, -560, -122, 23, -416, 319, 217, -629, 12, 198, 247, -488, -71, -9, 74, 89, 134, -381, -85, 36, 108, -95, 68, -26, -265, -146, -288, 9, -461, 64, 339, -109, -36, 68, -35, -76, 53, 27, 133, 76, -290, 35, 25, 40, 118, -182, -184, 78, -42, 411, 132, 96, 468, 349, -578, -28, -17, -51, -188, 6, 150, 39, -19, 145, 173, -154, 257, -379, -30, 248, 18, 52, -41, 100, 6, 46, 113, 140, 10, 90, 122, -64, -13, 26, 869, 7, 15, -16, 342, -10, 179, 143, 274, -27, -99, 13, 3, -19, 13, -23, 380, -111, 70, -30, -196, 659, 17, -21, 169, 113, 154, 172, 292, -20, 12, -33, 153, 30, -328, 91, -90, 232, 45, 39, 83, -7, 330, -493, -4, 51, -144, 65, -770, 110, 67, -29, 6, 23, 55, -171, 259, -38, -39, 58, 310, -48, -155, 6, 35, -21, -98, 205, 26, 24, 20, -612, 1, 79, -138, 73, 27, 248, 11, 116, 165, 3]\n",
      "-274145\n"
     ]
    }
   ],
   "source": [
    "temp = 0\n",
    "def fitness_function(weights: List[float]) -> float:\n",
    "    PieceSquareTable.update(weights)\n",
    "    Evaluation.update(weights)\n",
    "    evaluator = Evaluation()\n",
    "    \n",
    "    evals = []\n",
    "    for fen in test_fens:\n",
    "        eval_score = evaluator.evaluate(chess.Board(fen))\n",
    "        evals.append(eval_score)\n",
    "\n",
    "    global temp\n",
    "    if(temp == 0):\n",
    "        print(evals)\n",
    "        print(\"/n\")\n",
    "        print(stockfish_scores)\n",
    "        temp = 2\n",
    "        \n",
    "    inversion_cost = compute_inversion_cost(evals, stockfish_scores)\n",
    "    \n",
    "    return -inversion_cost  # Càng ít nghịch đảo, fitness càng cao\n",
    "\n",
    "array1 = PieceSquareTable.tables_to_array()  \n",
    "array2 = Evaluation.to_array()  \n",
    "origin_array = np.concatenate((array1, array2))\n",
    "print(fitness_function(origin_array))"
   ]
  },
  {
   "cell_type": "markdown",
   "metadata": {},
   "source": [
    "# Selection"
   ]
  },
  {
   "cell_type": "code",
   "execution_count": 13,
   "metadata": {},
   "outputs": [],
   "source": [
    "def tournament_selection(population, fitness_scores, tournament_size=5):\n",
    "    \"\"\"\n",
    "    Selects a parent using tournament selection.\n",
    "\n",
    "    Args:\n",
    "        population (np.array): Population of individuals.\n",
    "        fitness_scores (np.array): Fitness scores of individuals.\n",
    "        tournament_size (int): Number of individuals in the tournament.\n",
    "\n",
    "    Returns:\n",
    "        np.array: Selected individual.\n",
    "    \"\"\"\n",
    "    selected_indices = np.random.choice(len(population), tournament_size, replace=False)\n",
    "    best_index = selected_indices[np.argmax(fitness_scores[selected_indices])]\n",
    "    return population[best_index]"
   ]
  },
  {
   "cell_type": "markdown",
   "metadata": {},
   "source": [
    "# Crossover"
   ]
  },
  {
   "cell_type": "code",
   "execution_count": 14,
   "metadata": {},
   "outputs": [],
   "source": [
    "def crossover_mixed(parent1, parent2, alpha=0.4, crossover_rate=0.5):\n",
    "    \"\"\"\n",
    "    Perform crossover with an adaptive probability.\n",
    "\n",
    "    Args:\n",
    "        parent1 (np.array): First parent.\n",
    "        parent2 (np.array): Second parent.\n",
    "        alpha (float): Alpha parameter for BLX-α crossover (for floats).\n",
    "        crossover_rate (float): Probability of crossover.\n",
    "\n",
    "    Returns:\n",
    "        np.array: Child with mixed-type values.\n",
    "    \"\"\"\n",
    "    p1, p2 = np.array(parent1), np.array(parent2)\n",
    "    child = np.zeros_like(p1)\n",
    "\n",
    "    for i in range(len(p1)):\n",
    "        if np.random.rand() < crossover_rate:  # Perform crossover with given probability\n",
    "            min_val, max_val = min(p1[i], p2[i]), max(p1[i], p2[i])\n",
    "            range_val = max_val - min_val\n",
    "            child[i] = int(min_val - alpha * range_val + np.random.rand() * (1 + 2 * alpha) * range_val)\n",
    "            #remove int if wanna it is float number\n",
    "        else:\n",
    "            child[i] = np.random.choice([p1[i], p2[i]])  # Inherit directly from a parent\n",
    "\n",
    "    return child\n"
   ]
  },
  {
   "cell_type": "markdown",
   "metadata": {},
   "source": [
    "# Mutation"
   ]
  },
  {
   "cell_type": "code",
   "execution_count": 15,
   "metadata": {},
   "outputs": [],
   "source": [
    "def mutate_propotion(individual, strength = 0.3):\n",
    "    mutated = np.copy(individual)\n",
    "    rate1=np.random.uniform(0.7, 1.3)\n",
    "    for i in range (piece_square_table_length):\n",
    "        mutated[i] *= rate1\n",
    "\n",
    "    rate2=np.random.uniform(0.7, 1.3)\n",
    "    for i in range (piece_square_table_length,piece_square_table_length+evaluation_length):\n",
    "        mutated[i] *= rate2\n",
    "    \n",
    "    return mutated\n",
    "\n"
   ]
  },
  {
   "cell_type": "code",
   "execution_count": 18,
   "metadata": {},
   "outputs": [],
   "source": [
    "def mutate_mixed(individual, mutation_rate=0.3,strength = 0.3):\n",
    "    \"\"\"\n",
    "    Apply adaptive mutation to floating-point and integer genes.\n",
    "\n",
    "    Args:\n",
    "        individual (np.array): Individual's genes.\n",
    "        mutation_rate (float): Probability of mutation.\n",
    "\n",
    "    Returns:\n",
    "        np.array: Mutated individual.\n",
    "    \"\"\"\n",
    "    mutated = np.copy(individual)\n",
    "    #maybe use can strength instead of 1,0,-1 \n",
    "    for i in range(len(individual)):\n",
    "        if np.random.rand() < mutation_rate:  # Mutation occurs with probability\n",
    "            mutate_range = math.ceil(abs(mutated[i])) * strength\n",
    "            step = np.random.normal(loc=0.0, scale=mutate_range) #hàm theo phân phối gauss            \n",
    "            mutated[i] += step\n",
    "            mutated[i] = int(mutated[i])\n",
    "\n",
    "    return mutated\n"
   ]
  },
  {
   "cell_type": "code",
   "execution_count": 19,
   "metadata": {},
   "outputs": [],
   "source": [
    "def adaptive_mutation_rate(generation, max_generations, min_rate=0.005, max_rate=0.25, decay_factor=1.2):\n",
    "    \"\"\"\n",
    "    Adaptive mutation rate: Decreases as generations progress.\n",
    "    \"\"\"\n",
    "    return max_rate * (1 - (generation / max_generations))**decay_factor + min_rate"
   ]
  },
  {
   "cell_type": "code",
   "execution_count": 20,
   "metadata": {},
   "outputs": [],
   "source": [
    "\n",
    "def adaptive_crossover_rate(generation, max_generations, min_rate=0.4, max_rate=0.7):\n",
    "    \"\"\"\n",
    "    Adaptive crossover rate: Increases as generations progress.\n",
    "    \"\"\"\n",
    "    return min_rate + (max_rate - min_rate) * (generation / max_generations)\n"
   ]
  },
  {
   "cell_type": "markdown",
   "metadata": {},
   "source": [
    "# GA"
   ]
  },
  {
   "cell_type": "code",
   "execution_count": 21,
   "metadata": {},
   "outputs": [],
   "source": [
    "def genetic_algorithm(\n",
    "    fitness_function,\n",
    "    population_size=100,\n",
    "    property_generations = 0,\n",
    "    generations=100,\n",
    "    elite_size=10,\n",
    "    tournament_size=4,\n",
    "    convergence_threshold=20,\n",
    "    epxilon = 0.005\n",
    "):\n",
    "    \"\"\"\n",
    "    Runs an optimized Genetic Algorithm with adaptive mutation and crossover rates.\n",
    "\n",
    "    Args:\n",
    "        fitness_function (function): Function to evaluate individuals.\n",
    "        population_size (int): Number of individuals.\n",
    "        generations (int): Max number of generations.\n",
    "        elite_size (int): Number of top individuals retained.\n",
    "        tournament_size (int): Tournament selection group size.\n",
    "        convergence_threshold (int): Stop early if no improvement.\n",
    "        epxilon (double): count no improvement if can better epxilon time\n",
    "\n",
    "    Returns:\n",
    "        np.ndarray: Best found individual.\n",
    "        list: Fitness score history.\n",
    "    \"\"\"\n",
    "    population = initialize_population(population_size)\n",
    "    best_fitness_history = []\n",
    "    best_fitness = -np.inf\n",
    "    no_improvement_count = 0\n",
    "    step = 1 if property_generations != 0 else 2\n",
    "\n",
    "    for generation in range(generations):\n",
    "        # Adaptive rates\n",
    "        mutation_rate = adaptive_mutation_rate(generation, generations)\n",
    "        crossover_rate = adaptive_crossover_rate(generation, generations)\n",
    "\n",
    "        # Evaluate fitness for all individuals\n",
    "        fitness_scores = np.array([fitness_function(ind) for ind in population])\n",
    "\n",
    "        # Sort and keep top elite individuals\n",
    "        sorted_indices = np.argsort(fitness_scores)[::-1]\n",
    "        elite = population[sorted_indices[:elite_size]]\n",
    "\n",
    "        # Track best fitness\n",
    "        current_best_fitness = fitness_scores[sorted_indices[0]]\n",
    "        best_fitness_history.append(current_best_fitness)\n",
    "\n",
    "        # Check if fitness improved\n",
    "        #fitness is negative so -epxilon\n",
    "        if current_best_fitness > best_fitness * (1 - epxilon):\n",
    "            best_fitness = current_best_fitness\n",
    "            no_improvement_count = 0\n",
    "        else:\n",
    "            no_improvement_count += 1\n",
    "\n",
    "        if (generation == property_generations) or (no_improvement_count >= convergence_threshold and step == 1):\n",
    "            no_improvement_count = 0\n",
    "            step = 2\n",
    "            if property_generations != 0:\n",
    "                print(f\"✅ stop change properties after {generation} generations! Start normal GA.\")\n",
    "\n",
    "        # Stop early if fitness has not improved\n",
    "        if no_improvement_count >= convergence_threshold and step == 2:\n",
    "            print(f\"✅ Converged after {generation+1} generations! Stopping early.\")\n",
    "            break\n",
    "\n",
    "        # Generate new population\n",
    "        new_population = []\n",
    "        if step == 2:\n",
    "            for _ in range(population_size - elite_size):\n",
    "                p1 = tournament_selection(population, fitness_scores, tournament_size)\n",
    "                p2 = tournament_selection(population, fitness_scores, tournament_size)\n",
    "                child = crossover_mixed(p1, p2, crossover_rate=crossover_rate)\n",
    "                child = mutate_mixed(child, mutation_rate, 0.1)\n",
    "                new_population.append(child)\n",
    "        elif step == 1:\n",
    "            for _ in range(population_size - elite_size):\n",
    "                #chi can 1 ca the vi dang nao cung la tim ti le 2\n",
    "                p = tournament_selection(population, fitness_scores, tournament_size)\n",
    "                child = mutate_propotion(p)\n",
    "                new_population.append(child)\n",
    "\n",
    "        # Create next generation\n",
    "        population = np.vstack((elite, new_population))\n",
    "\n",
    "        print(f\"Generation {generation+1}: Best Fitness = {current_best_fitness:.3f}, Mutation Rate = {mutation_rate:.3f}, Crossover Rate = {crossover_rate:.3f}\")\n",
    "\n",
    "    return population[0], best_fitness_history\n"
   ]
  },
  {
   "cell_type": "markdown",
   "metadata": {},
   "source": [
    "# Tuning"
   ]
  },
  {
   "cell_type": "code",
   "execution_count": null,
   "metadata": {},
   "outputs": [
    {
     "name": "stdout",
     "output_type": "stream",
     "text": [
      "Generation 1: Best Fitness = -268183.000, Mutation Rate = 0.255, Crossover Rate = 0.400\n",
      "Generation 2: Best Fitness = -265327.000, Mutation Rate = 0.249, Crossover Rate = 0.406\n",
      "Generation 3: Best Fitness = -265228.000, Mutation Rate = 0.243, Crossover Rate = 0.412\n",
      "Generation 4: Best Fitness = -262709.000, Mutation Rate = 0.237, Crossover Rate = 0.418\n",
      "Generation 5: Best Fitness = -259981.000, Mutation Rate = 0.231, Crossover Rate = 0.424\n",
      "Generation 6: Best Fitness = -258031.000, Mutation Rate = 0.225, Crossover Rate = 0.430\n",
      "Generation 7: Best Fitness = -254384.000, Mutation Rate = 0.219, Crossover Rate = 0.436\n"
     ]
    }
   ],
   "source": [
    "best_weights, best_fitness_history = genetic_algorithm(fitness_function, population_size=150, generations=50, elite_size=10, convergence_threshold=5, epxilon = 0.002)\n",
    "\n",
    "# Plot Convergence Graph\n",
    "plt.plot(best_fitness_history, label=\"Best Fitness\")\n",
    "plt.xlabel(\"Generation\")\n",
    "plt.ylabel(\"Fitness Score\")\n",
    "plt.title(\"Genetic Algorithm Convergence\")\n",
    "plt.legend()\n",
    "plt.show()\n",
    "\n",
    "print(\"Optimized Weights:\")\n",
    "for i in range(8):\n",
    "    for j in range(8):\n",
    "        row = []  # Tạo một dòng cho mỗi bảng\n",
    "        for k in range(8):\n",
    "            row.append(int(best_weights[i * 64 + j * 8 + k]))  # Tính chỉ số của phần tử trong danh sách\n",
    "        print(row)  # In ra một dòng của bảng\n",
    "    print()  # Dấu cách giữa các bảng\n",
    "temp = 0\n",
    "fitness_function(best_weights)\n",
    "PieceSquareTable.update(best_weights)\n",
    "PieceSquareTable.save_to_json(PieceSquareTable.path)\n",
    "Evaluation.update(best_weights)\n",
    "Evaluation.save_to_json(Evaluation.path)"
   ]
  }
 ],
 "metadata": {
  "kernelspec": {
   "display_name": ".venv",
   "language": "python",
   "name": "python3"
  },
  "language_info": {
   "codemirror_mode": {
    "name": "ipython",
    "version": 3
   },
   "file_extension": ".py",
   "mimetype": "text/x-python",
   "name": "python",
   "nbconvert_exporter": "python",
   "pygments_lexer": "ipython3",
   "version": "3.10.11"
  }
 },
 "nbformat": 4,
 "nbformat_minor": 2
}
