{
 "cells": [
  {
   "cell_type": "markdown",
   "metadata": {},
   "source": [
    "# Chuẩn bị"
   ]
  },
  {
   "cell_type": "markdown",
   "metadata": {},
   "source": [
    "\n",
    "1. Tải Stockfish từ trang chính thức: https://stockfishchess.org/download/\n",
    "\n",
    "2. Sau khi tải về, đổi tên file `.exe` thành `stockfish`\n",
    "\n",
    "3. Di chuyển file này vào thư mục: `chess-bot/.venv/bin/`\n",
    "\n",
    "4. Tải dataset từ https://www.kaggle.com/code/gabrielhaselhurst/chess-dataset/input\n",
    "\n",
    "5. Di chuyển file này vào thư mục chess-bot"
   ]
  },
  {
   "cell_type": "markdown",
   "metadata": {},
   "source": [
    "## Import thư viện cần thiết"
   ]
  },
  {
   "cell_type": "code",
   "execution_count": 1,
   "metadata": {},
   "outputs": [
    {
     "name": "stdout",
     "output_type": "stream",
     "text": [
      "[8, 9, 16, 17]\n"
     ]
    }
   ],
   "source": [
    "from stockfish import Stockfish\n",
    "import numpy as np\n",
    "import matplotlib.pyplot as plt\n",
    "import chess\n",
    "import chess.svg\n",
    "from typing import List\n",
    "import pandas as pd\n",
    "from IPython.display import display, SVG, HTML\n",
    "import math\n",
    "from evaluation.evaluation import Evaluation\n",
    "from evaluation.piece_square_table import PieceSquareTable\n"
   ]
  },
  {
   "cell_type": "markdown",
   "metadata": {},
   "source": [
    "## Config đường dẫn"
   ]
  },
  {
   "cell_type": "code",
   "execution_count": 2,
   "metadata": {},
   "outputs": [],
   "source": [
    "stockfish_path = \".venv/bin/stockfish\"\n",
    "# stockfish_path = \".venv/Scripts/stockfish.exe\""
   ]
  },
  {
   "cell_type": "markdown",
   "metadata": {},
   "source": [
    "## Stockfish Engine"
   ]
  },
  {
   "cell_type": "code",
   "execution_count": 3,
   "metadata": {},
   "outputs": [],
   "source": [
    "stockfish = Stockfish(stockfish_path)\n",
    "stockfish.set_skill_level(20)\n",
    "stockfish.set_depth(20)"
   ]
  },
  {
   "cell_type": "code",
   "execution_count": 4,
   "metadata": {},
   "outputs": [],
   "source": [
    "def get_stockfish_score(fen: str) -> float:\n",
    "    stockfish.set_fen_position(fen)\n",
    "    score = stockfish.get_evaluation()\n",
    "    return score[\"value\"] if score[\"type\"] == \"cp\" else (1000 if score[\"value\"] > 0 else -1000)"
   ]
  },
  {
   "cell_type": "markdown",
   "metadata": {},
   "source": [
    "## Lấy tập dữ liệu"
   ]
  },
  {
   "cell_type": "code",
   "execution_count": 5,
   "metadata": {},
   "outputs": [
    {
     "data": {
      "text/html": [
       "<div>\n",
       "<style scoped>\n",
       "    .dataframe tbody tr th:only-of-type {\n",
       "        vertical-align: middle;\n",
       "    }\n",
       "\n",
       "    .dataframe tbody tr th {\n",
       "        vertical-align: top;\n",
       "    }\n",
       "\n",
       "    .dataframe thead th {\n",
       "        text-align: right;\n",
       "    }\n",
       "</style>\n",
       "<table border=\"1\" class=\"dataframe\">\n",
       "  <thead>\n",
       "    <tr style=\"text-align: right;\">\n",
       "      <th></th>\n",
       "      <th>FEN</th>\n",
       "      <th>Evaluation</th>\n",
       "    </tr>\n",
       "  </thead>\n",
       "  <tbody>\n",
       "    <tr>\n",
       "      <th>0</th>\n",
       "      <td>rnbqkbnr/pppppppp/8/8/4P3/8/PPPP1PPP/RNBQKBNR ...</td>\n",
       "      <td>-10</td>\n",
       "    </tr>\n",
       "    <tr>\n",
       "      <th>1</th>\n",
       "      <td>rnbqkbnr/pppp1ppp/4p3/8/4P3/8/PPPP1PPP/RNBQKBN...</td>\n",
       "      <td>+56</td>\n",
       "    </tr>\n",
       "    <tr>\n",
       "      <th>2</th>\n",
       "      <td>rnbqkbnr/pppp1ppp/4p3/8/3PP3/8/PPP2PPP/RNBQKBN...</td>\n",
       "      <td>-9</td>\n",
       "    </tr>\n",
       "    <tr>\n",
       "      <th>3</th>\n",
       "      <td>rnbqkbnr/ppp2ppp/4p3/3p4/3PP3/8/PPP2PPP/RNBQKB...</td>\n",
       "      <td>+52</td>\n",
       "    </tr>\n",
       "    <tr>\n",
       "      <th>4</th>\n",
       "      <td>rnbqkbnr/ppp2ppp/4p3/3p4/3PP3/8/PPPN1PPP/R1BQK...</td>\n",
       "      <td>-26</td>\n",
       "    </tr>\n",
       "  </tbody>\n",
       "</table>\n",
       "</div>"
      ],
      "text/plain": [
       "                                                 FEN Evaluation\n",
       "0  rnbqkbnr/pppppppp/8/8/4P3/8/PPPP1PPP/RNBQKBNR ...        -10\n",
       "1  rnbqkbnr/pppp1ppp/4p3/8/4P3/8/PPPP1PPP/RNBQKBN...        +56\n",
       "2  rnbqkbnr/pppp1ppp/4p3/8/3PP3/8/PPP2PPP/RNBQKBN...         -9\n",
       "3  rnbqkbnr/ppp2ppp/4p3/3p4/3PP3/8/PPP2PPP/RNBQKB...        +52\n",
       "4  rnbqkbnr/ppp2ppp/4p3/3p4/3PP3/8/PPPN1PPP/R1BQK...        -26"
      ]
     },
     "execution_count": 5,
     "metadata": {},
     "output_type": "execute_result"
    }
   ],
   "source": [
    "df = pd.read_csv('chessData.csv')\n",
    "df.head()"
   ]
  },
  {
   "cell_type": "code",
   "execution_count": 6,
   "metadata": {},
   "outputs": [
    {
     "name": "stdout",
     "output_type": "stream",
     "text": [
      "[-459, 28, -50, 695, 130, 41, 0, -865, -89, -329, -66, -374, 103, 119, 13, 539, 0, 68, 393, -223, 0, 129, 0, 81, -202, 762, 146, -95, 0, 201, -117, -174, 62, 103, -392, 0, 13, -175, 202, -42, -130, 276, 253, -14, -8, 0, 663, 192, 64, -13, 96, 0, -68, 0, 3, -442, 277, -2, -206, 157, -35, -889, -68, -164, 0, -37, 221, -104, -10, -92, 153, -130, 56, 123, 373, 92, -1039, -5997, 175, -389, 80, 119, 414, -235, 38, -343, -22, 210, -24, 109, -939, -13, 13, -16, 114, -112, -56, -49, -82, -116, 31, 68, 636, 34, -312, -1317, 173, -2, -102, 187, 252, 519, -53, -1, 699, 0, 0, 234, 683, 5305, 3, 494, -100, -3, 17, 52, -27, 4, 86, 857, 169, 49, 88, -13, -1246, -49, 84, -138, 101, 86, -185, 97, -106, -40, 0, -5911, -95, 323, -58, -675, 772, 608, 200, 15, 13, 193, -169, 162, 320, -141, -573, 240, -340, 600, 109, 584, 0, 0, 7224, 114, -46, 15, 333, 307, 428, 376, -1, 314, 0, 105, 1557, 53, 81, -80, 681, 204, 841, -79, 162, -1117, 82, 96, -2293, 898, 972, -139, 5364, -779, 285, 56, 804, 221, -20, 211, 458, 0, -59, -13, -35, 371, -194, 184, -8, -260, 259, 120, 853, 115, 0, -13, 98, 5354, 185, 171, -57, 0, 106, 710, 87, 139, 1168, -179, 90, 48, 95, -74, -203, 50, -15, 175, 228, 47, 457, 0, 484, 847, 34, -40, -30, 85, 16, 469, 37, 154, 80, 25, 21, -30, -63, 59, -699, 0, -138, 239, 79, 8, -112, 1069, 72, 46, 123, 0, 352, 414, 128, -252, 0, 1061, 114, -13, -292, 271, -40, -5369, -736, 4, 0, 0, 192, -189, -61, -35, -60, 352, 127, 625, 1423, -477, -57, 850, -372, 0, 83, -56, 0, 79, -76, 105, 1349, 0, 72, 0, 7, -768, 83, -261, 88, 319, -202, -688, -99, 231, 0, -420, 62, 4, -107, -660, -181, 472, -113, 33, -146, 123, 9, 366, -8, -141, 0, 346, -88, -94, 260, -46, -130, 0, -54, 339, 188, -78, 642, 0, -365, 58, -629, -7112, -407, 13, 0, 79, -193, -264, -397, 447, 380, -198, -64, 87, 0, 475, 15, 169, 883, 177, 515, 363, 168, -125, 194, 602, 97, 0, -231, -322, 428, -606, 269, -78, 399, -543, 100, -169, 106, 1129, -1214, 85, 146, -59, 52, 113, -99, 165, 411, 219, 153, -71, -53, 80, 316, 57, -189, 0, 199, 126, 1025, 53, -741, -256, -48, 0, 109, -187, 52, -470, 34, -441, 98, 207, 62, -16, 5980, -1111, 120, 498, -252, -138, -92, 160, 147, -153, 139, 81, 86, -169, 33, 450, 67, -24, 1218, 0, 984, 45, 155, 83, -656, 551, 79, 415, -64, -50, 55, -233, -52, 72, 144, 0, -47, 85, 0, 147, -13, -304, 129, 133, 76, 138, 92, 492, 337, 452, 77, 98, 113, -155, 45, 500, 0, 171, 132, -48, -534, -516, -70, -169, 114, 152, 782, -30, -951, -26, 472, 387, 10, 30, -88, -177, -180, 504, -55, 0, 0, -485, -6, 0, 69, 403, -82, -84, 166, -364, 0, -15, 120, 0, -392, 0, -297, 93, -65, -193, 0, 0, 0, 167, -758, 202, 858, 54, 69, 5, 0, -260, -131, 136, 132, -2, 49, 171, -412, 190, 40, 112, -1028, 568, -50, -71, -17, -13, 612, -119, 0, 443, 0, 0, -63, 419, -4, 0, -165, -30, -31, -37, 28, -901, 189, 430, 63, -65, 9, 0, -250, -68, -51, 0, 428, -54, 1678, 0, 53, 8, 150, -891, 99, 230, 0, 746, 214, 226, 0, 155, 117, 29, -798, -51, -395, 13, 69, 5523, 2, -159, 16, 39, -422, -121, 33, -168, 185, 841, 279, 0, 241, 24, -773, 0, 202, -197, 66, 468, -55, 264, -2, -515, 63, 68, -339, -1084, 29, 2, 15, -211, -114, -25, 166, 97, 1629, 28, 73, -49, 313, 180, -303, 4, 327, 133, -63, -1015, -752, 80, 45, 176, 82, -843, 76, 0, 51, 523, -936, 108, -331, 79, 532, 204, 670, -4, 164, -392, 65, -25, 0, 210, -385, 0, -100, 0, -22, -616, 0, 33, 26, -573, -236, 23, 513, -67, -390, -85, -499, -50, -673, 21, 6, 746, 197, -226, -37, -21, 55, 487, -5438, -2697, -452, 159, -25, 939, 747, 571, 197, -528, 90, 669, 138, -503, 32, -1330, 67, -167, 706, -676, -426, 500, 35, -51, 0, -330, 268, -106, -47, -416, 92, -64, 50, 0, 32, -3, 170, 47, 1924, 51, -13, -701, 79, 148, 179, 230, -27, -1530, -191, 51, 409, 60, 275, -674, -275, 432, 61, -162, 102, -97, -56, -50, 83, 64, -272, -764, -58, 7, 80, -539, 0, -511, -151, 163, 190, -107, 8, -13, 0, 78, -2, 11, 185, 98, 210, 30, 1263, 152, 386, 30, -115, 254, 229, 1385, -100, 130, 34, -138, 535, 13, -23, -366, -15, 15, 0, -141, 61, -10, 51, 542, 568, 1271, -29, 548, -633, 165, 275, -187, 139, 41, -3, 171, 1418, 8, 471, 72, 267, -805, -108, 76, -29, 365, 280, -8, -13, 268, 831, -910, -76, 68, 22, 108, 152, -681, 578, 0, 396, -12, 82, -123, -396, -96, -369, 0, -642, 48, 478, -68, 0, 97, 70, -91, 118, -197, 64, 114, -729, 26, -61, 92, 131, -234, -187, 99, 9, 572, 92, -97, 934, 449, -2306, 0, -13, -177, -784, 19, 41, -1, 0, 15, 168, -168, 152, -449, 742, 352, 53, 0, -46, 126, 0, 24, 473, 95, -49, 160, 86, -47, -56, -40, 6456, -73, -33, -40, 1357, 57, 230, 1512, 1210, -14, -951, 71, 0, 0, 0, 35, 877, 26, 65, -40, -297, 595, -17, 43, 1200, 579, 71, 314, 659, -124, -77, 109, 125, 0, -445, 146, -123, 187, 100, 0, 240, 67, 279, -983, 41, 4, 415, 38, -12, 0, 130, 1, 101, 0, 13, -117, 898, -594, -23, 0, -704, -13, -46, -68, 91, -75, -30, 176, 0, 13, -40, -906, 129, 236, -1006, 26, 1361, 393, 25, 0, 180, 0]\n",
      "49666\n"
     ]
    }
   ],
   "source": [
    "test_fens = df.sample(n=5000, random_state=10)['FEN'].to_list()\n",
    "stockfish_scores = (\n",
    "    df.sample(n=1000, random_state=10)['Evaluation']\n",
    "    .astype(str)\n",
    "    .str.replace(\"+\", \"\", regex=False)  # Remove \"+\"\n",
    "    .str.extract(r'([-]?\\d+)')[0]       # Extract numbers (returns DataFrame, select column 0)\n",
    "    .astype(float)\n",
    "    .fillna(0)\n",
    "    .astype(int)\n",
    "    .tolist()  # Convert to Python list\n",
    ")\n",
    "\n",
    "print(stockfish_scores)\n",
    "print(sum(stockfish_scores))"
   ]
  },
  {
   "cell_type": "markdown",
   "metadata": {},
   "source": [
    "## Visualization"
   ]
  },
  {
   "cell_type": "code",
   "execution_count": 7,
   "metadata": {},
   "outputs": [],
   "source": [
    "def showBoard(fens, boards_per_row=5):\n",
    "    total_boards = len(fens)\n",
    "    rows = math.ceil(total_boards / boards_per_row)\n",
    "    \n",
    "    for row in range(rows):\n",
    "        boards_in_row = []\n",
    "        for col in range(boards_per_row):\n",
    "            idx = row * boards_per_row + col\n",
    "            if idx < total_boards:\n",
    "                board = chess.Board(fens[idx])\n",
    "                svg = chess.svg.board(board, size=200)  # Giảm size nếu cần\n",
    "                boards_in_row.append(SVG(svg)._repr_svg_())  # Lấy chuỗi SVG\n",
    "        \n",
    "        # Tạo HTML với flexbox để xếp hàng ngang\n",
    "        html = f\"\"\"\n",
    "        <div style=\"display: flex; flex-wrap: nowrap; gap: 10px; margin: 10px 0;\">\n",
    "            {''.join(boards_in_row)}\n",
    "        </div>\n",
    "        \"\"\"\n",
    "        display(HTML(html))"
   ]
  },
  {
   "cell_type": "code",
   "execution_count": null,
   "metadata": {},
   "outputs": [],
   "source": [
    "showBoard(df.sample(n=50, random_state=42)['FEN'].to_list())"
   ]
  },
  {
   "cell_type": "markdown",
   "metadata": {},
   "source": [
    "# 1. Initialization"
   ]
  },
  {
   "cell_type": "code",
   "execution_count": null,
   "metadata": {},
   "outputs": [
    {
     "name": "stdout",
     "output_type": "stream",
     "text": [
      "[[  2.   1.   1. ... -64. -61. -83.]\n",
      " [  2.  -1.  -1. ... -63. -70. -77.]\n",
      " [  2.  -1.   1. ... -79. -69. -67.]]\n"
     ]
    }
   ],
   "source": [
    "import numpy as np\n",
    "\n",
    "def initialize_population(size: int):\n",
    "    \"\"\"\n",
    "    Initialize a population with chess-specific value ranges.\n",
    "    \n",
    "    - The first 5 parameters (evaluation weights) are floating-point numbers.\n",
    "    - The remaining parameters (piece values, penalties, multipliers) are integers.\n",
    "\n",
    "    Args:\n",
    "        size (int): Number of individuals in the population.\n",
    "\n",
    "    Returns:\n",
    "        np.ndarray: Population matrix (size, num_params) with meaningful bounds.\n",
    "    \"\"\"\n",
    "    array1 = PieceSquareTable.tables_to_array()  \n",
    "    array2 = Evaluation.to_array()  \n",
    "    origin_array = np.concatenate((array1, array2))\n",
    "    # Define bounds for each gene type\n",
    "    bounds = []\n",
    "    for value in origin_array:\n",
    "        lower_bound = min(int(value * 0.8),int(value * 1.2)) - 1\n",
    "        upper_bound = max(int(value * 0.8),int(value * 1.2)) + 1\n",
    "        bounds.append([lower_bound, upper_bound])\n",
    "\n",
    "\n",
    "    num_params = len(bounds)\n",
    "\n",
    "    # Generate population matrix\n",
    "    population = np.zeros((size, num_params))\n",
    "\n",
    "    for i in range(num_params):\n",
    "        low, high = bounds[i]\n",
    "        population[:, i] = np.random.randint(low, high + 1, size=size)\n",
    "\n",
    "    return population\n",
    "\n",
    "# Generate population with 200 individuals\n",
    "population = initialize_population(200)\n",
    "\n",
    "# Print first 3 individuals for verification\n",
    "print(population[:3])\n"
   ]
  },
  {
   "cell_type": "markdown",
   "metadata": {},
   "source": [
    "# Fitness function"
   ]
  },
  {
   "cell_type": "code",
   "execution_count": null,
   "metadata": {},
   "outputs": [],
   "source": [
    "def fitness_function(weights: List[float]) -> float:\n",
    "    total_error = 0\n",
    "    PieceSquareTable.update(weights)\n",
    "    Evaluation.update(weights)\n",
    "    evaluator = Evaluation()\n",
    "    for fen, sf_score in zip(test_fens, stockfish_scores):\n",
    "        eval_score = evaluator.evaluate(chess.Board(fen))\n",
    "        total_error += (eval_score - sf_score) ** 2\n",
    "    return -total_error / len(test_fens) # Càng gần giá trị của Stockfish thì fitness càng cao"
   ]
  },
  {
   "cell_type": "markdown",
   "metadata": {},
   "source": [
    "# Selection"
   ]
  },
  {
   "cell_type": "code",
   "execution_count": null,
   "metadata": {},
   "outputs": [],
   "source": [
    "def tournament_selection(population, fitness_scores, tournament_size=5):\n",
    "    \"\"\"\n",
    "    Selects a parent using tournament selection.\n",
    "\n",
    "    Args:\n",
    "        population (np.array): Population of individuals.\n",
    "        fitness_scores (np.array): Fitness scores of individuals.\n",
    "        tournament_size (int): Number of individuals in the tournament.\n",
    "\n",
    "    Returns:\n",
    "        np.array: Selected individual.\n",
    "    \"\"\"\n",
    "    selected_indices = np.random.choice(len(population), tournament_size, replace=False)\n",
    "    best_index = selected_indices[np.argmax(fitness_scores[selected_indices])]\n",
    "    return population[best_index]"
   ]
  },
  {
   "cell_type": "markdown",
   "metadata": {},
   "source": [
    "# Crossover"
   ]
  },
  {
   "cell_type": "code",
   "execution_count": null,
   "metadata": {},
   "outputs": [],
   "source": [
    "def crossover_mixed(parent1, parent2, alpha=0.4, crossover_rate=0.5):\n",
    "    \"\"\"\n",
    "    Perform crossover with an adaptive probability.\n",
    "\n",
    "    Args:\n",
    "        parent1 (np.array): First parent.\n",
    "        parent2 (np.array): Second parent.\n",
    "        alpha (float): Alpha parameter for BLX-α crossover (for floats).\n",
    "        crossover_rate (float): Probability of crossover.\n",
    "\n",
    "    Returns:\n",
    "        np.array: Child with mixed-type values.\n",
    "    \"\"\"\n",
    "    p1, p2 = np.array(parent1), np.array(parent2)\n",
    "    child = np.zeros_like(p1)\n",
    "\n",
    "    for i in range(len(p1)):\n",
    "        if np.random.rand() < crossover_rate:  # Perform crossover with given probability\n",
    "            min_val, max_val = min(p1[i], p2[i]), max(p1[i], p2[i])\n",
    "            range_val = max_val - min_val\n",
    "            child[i] = int(min_val - alpha * range_val + np.random.rand() * (1 + 2 * alpha) * range_val)\n",
    "            #remove int if wanna it is float number\n",
    "        else:\n",
    "            child[i] = np.random.choice([p1[i], p2[i]])  # Inherit directly from a parent\n",
    "\n",
    "    return child\n"
   ]
  },
  {
   "cell_type": "markdown",
   "metadata": {},
   "source": [
    "# Mutation"
   ]
  },
  {
   "cell_type": "code",
   "execution_count": null,
   "metadata": {},
   "outputs": [],
   "source": [
    "def mutate_mixed(individual, mutation_rate=0.3,strength = 0.3):\n",
    "    \"\"\"\n",
    "    Apply adaptive mutation to floating-point and integer genes.\n",
    "\n",
    "    Args:\n",
    "        individual (np.array): Individual's genes.\n",
    "        mutation_rate (float): Probability of mutation.\n",
    "\n",
    "    Returns:\n",
    "        np.array: Mutated individual.\n",
    "    \"\"\"\n",
    "    mutated = np.copy(individual)\n",
    "    #maybe use can strength instead of 1,0,-1 \n",
    "    for i in range(len(individual)):\n",
    "        if np.random.rand() < mutation_rate:  # Mutation occurs with probability\n",
    "            mutate_range = math.ceil(abs(mutated[i]))\n",
    "            step = np.random.randint(-mutate_range, mutate_range + 1)  # Change by -1, 0, or +1\n",
    "            mutated[i] += step\n",
    "            mutated[i] = int(mutated[i])\n",
    "\n",
    "    return mutated\n"
   ]
  },
  {
   "cell_type": "code",
   "execution_count": null,
   "metadata": {},
   "outputs": [],
   "source": [
    "def adaptive_mutation_rate(generation, max_generations, min_rate=0.1, max_rate=0.4):\n",
    "    \"\"\"\n",
    "    Adaptive mutation rate: Decreases as generations progress.\n",
    "    \"\"\"\n",
    "    return max_rate - (max_rate - min_rate) * (generation / max_generations)"
   ]
  },
  {
   "cell_type": "code",
   "execution_count": null,
   "metadata": {},
   "outputs": [],
   "source": [
    "\n",
    "def adaptive_crossover_rate(generation, max_generations, min_rate=0.2, max_rate=0.7):\n",
    "    \"\"\"\n",
    "    Adaptive crossover rate: Increases as generations progress.\n",
    "    \"\"\"\n",
    "    return min_rate + (max_rate - min_rate) * (generation / max_generations)\n"
   ]
  },
  {
   "cell_type": "markdown",
   "metadata": {},
   "source": [
    "# GA"
   ]
  },
  {
   "cell_type": "code",
   "execution_count": null,
   "metadata": {},
   "outputs": [],
   "source": [
    "def genetic_algorithm(\n",
    "    fitness_function,\n",
    "    population_size=100,\n",
    "    generations=100,\n",
    "    elite_size=10,\n",
    "    tournament_size=5,\n",
    "    convergence_threshold=20\n",
    "):\n",
    "    \"\"\"\n",
    "    Runs an optimized Genetic Algorithm with adaptive mutation and crossover rates.\n",
    "\n",
    "    Args:\n",
    "        fitness_function (function): Function to evaluate individuals.\n",
    "        population_size (int): Number of individuals.\n",
    "        generations (int): Max number of generations.\n",
    "        elite_size (int): Number of top individuals retained.\n",
    "        tournament_size (int): Tournament selection group size.\n",
    "        convergence_threshold (int): Stop early if no improvement.\n",
    "\n",
    "    Returns:\n",
    "        np.ndarray: Best found individual.\n",
    "        list: Fitness score history.\n",
    "    \"\"\"\n",
    "    population = initialize_population(population_size)\n",
    "    best_fitness_history = []\n",
    "    best_fitness = -np.inf\n",
    "    no_improvement_count = 0\n",
    "\n",
    "    for generation in range(generations):\n",
    "        # Adaptive rates\n",
    "        mutation_rate = adaptive_mutation_rate(generation, generations)\n",
    "        crossover_rate = adaptive_crossover_rate(generation, generations)\n",
    "\n",
    "        # Evaluate fitness for all individuals\n",
    "        fitness_scores = np.array([fitness_function(ind) for ind in population])\n",
    "\n",
    "        # Sort and keep top elite individuals\n",
    "        sorted_indices = np.argsort(fitness_scores)[::-1]\n",
    "        elite = population[sorted_indices[:elite_size]]\n",
    "\n",
    "        # Track best fitness\n",
    "        current_best_fitness = fitness_scores[sorted_indices[0]]\n",
    "        best_fitness_history.append(current_best_fitness)\n",
    "\n",
    "        # Check if fitness improved\n",
    "        if current_best_fitness > best_fitness:\n",
    "            best_fitness = current_best_fitness\n",
    "            no_improvement_count = 0\n",
    "        else:\n",
    "            no_improvement_count += 1\n",
    "\n",
    "        # Stop early if fitness has not improved\n",
    "        if no_improvement_count >= convergence_threshold:\n",
    "            print(f\"✅ Converged after {generation+1} generations! Stopping early.\")\n",
    "            break\n",
    "\n",
    "        # Generate new population\n",
    "        new_population = []\n",
    "        for _ in range(population_size - elite_size):\n",
    "            p1 = tournament_selection(population, fitness_scores, tournament_size)\n",
    "            p2 = tournament_selection(population, fitness_scores, tournament_size)\n",
    "            child = crossover_mixed(p1, p2, crossover_rate=crossover_rate)\n",
    "            child = mutate_mixed(child, mutation_rate)\n",
    "            new_population.append(child)\n",
    "\n",
    "        # Create next generation\n",
    "        population = np.vstack((elite, new_population))\n",
    "\n",
    "        print(f\"Generation {generation+1}: Best Fitness = {current_best_fitness:.3f}, Mutation Rate = {mutation_rate:.3f}, Crossover Rate = {crossover_rate:.3f}\")\n",
    "\n",
    "    return population[0], best_fitness_history\n"
   ]
  },
  {
   "cell_type": "markdown",
   "metadata": {},
   "source": [
    "# Tuning"
   ]
  },
  {
   "cell_type": "code",
   "execution_count": null,
   "metadata": {},
   "outputs": [
    {
     "name": "stdout",
     "output_type": "stream",
     "text": [
      "Generation 1: Best Fitness = -128265.372, Mutation Rate = 0.400, Crossover Rate = 0.200\n",
      "Generation 2: Best Fitness = -124279.944, Mutation Rate = 0.394, Crossover Rate = 0.210\n",
      "Generation 3: Best Fitness = -123618.937, Mutation Rate = 0.388, Crossover Rate = 0.220\n",
      "Generation 4: Best Fitness = -122219.247, Mutation Rate = 0.382, Crossover Rate = 0.230\n",
      "Generation 5: Best Fitness = -119338.054, Mutation Rate = 0.376, Crossover Rate = 0.240\n",
      "Generation 6: Best Fitness = -118787.228, Mutation Rate = 0.370, Crossover Rate = 0.250\n",
      "Generation 7: Best Fitness = -116954.400, Mutation Rate = 0.364, Crossover Rate = 0.260\n",
      "Generation 8: Best Fitness = -116954.400, Mutation Rate = 0.358, Crossover Rate = 0.270\n",
      "Generation 9: Best Fitness = -116178.161, Mutation Rate = 0.352, Crossover Rate = 0.280\n",
      "co loi trong load file PieceSquareTable\n",
      "co loi trong load file PieceSquareTable\n",
      "co loi trong load file PieceSquareTable\n",
      "co loi trong load file PieceSquareTable\n",
      "co loi trong load file PieceSquareTable\n",
      "co loi trong load file PieceSquareTable\n",
      "co loi trong load file PieceSquareTable\n",
      "co loi trong load file PieceSquareTable\n",
      "co loi trong load file PieceSquareTable\n",
      "co loi trong load file PieceSquareTable\n",
      "co loi trong load file PieceSquareTable\n",
      "co loi trong load file PieceSquareTable\n",
      "co loi trong load file PieceSquareTable\n",
      "co loi trong load file PieceSquareTable\n",
      "co loi trong load file PieceSquareTable\n",
      "co loi trong load file PieceSquareTable\n",
      "co loi trong load file PieceSquareTable\n",
      "co loi trong load file PieceSquareTable\n",
      "co loi trong load file PieceSquareTable\n",
      "co loi trong load file PieceSquareTable\n",
      "co loi trong load file PieceSquareTable\n",
      "co loi trong load file PieceSquareTable\n",
      "co loi trong load file PieceSquareTable\n",
      "co loi trong load file PieceSquareTable\n",
      "co loi trong load file PieceSquareTable\n",
      "co loi trong load file PieceSquareTable\n",
      "co loi trong load file PieceSquareTable\n"
     ]
    },
    {
     "ename": "KeyboardInterrupt",
     "evalue": "",
     "output_type": "error",
     "traceback": [
      "\u001b[1;31m---------------------------------------------------------------------------\u001b[0m",
      "\u001b[1;31mKeyboardInterrupt\u001b[0m                         Traceback (most recent call last)",
      "Cell \u001b[1;32mIn[84], line 1\u001b[0m\n\u001b[1;32m----> 1\u001b[0m best_weights, best_fitness_history \u001b[38;5;241m=\u001b[39m \u001b[43mgenetic_algorithm\u001b[49m\u001b[43m(\u001b[49m\u001b[43mfitness_function\u001b[49m\u001b[43m,\u001b[49m\u001b[43m \u001b[49m\u001b[43mpopulation_size\u001b[49m\u001b[38;5;241;43m=\u001b[39;49m\u001b[38;5;241;43m200\u001b[39;49m\u001b[43m,\u001b[49m\u001b[43m \u001b[49m\u001b[43mgenerations\u001b[49m\u001b[38;5;241;43m=\u001b[39;49m\u001b[38;5;241;43m50\u001b[39;49m\u001b[43m,\u001b[49m\u001b[43m \u001b[49m\u001b[43melite_size\u001b[49m\u001b[38;5;241;43m=\u001b[39;49m\u001b[38;5;241;43m25\u001b[39;49m\u001b[43m,\u001b[49m\u001b[43m \u001b[49m\u001b[43mconvergence_threshold\u001b[49m\u001b[38;5;241;43m=\u001b[39;49m\u001b[38;5;241;43m5\u001b[39;49m\u001b[43m)\u001b[49m\n\u001b[0;32m      3\u001b[0m \u001b[38;5;66;03m# Plot Convergence Graph\u001b[39;00m\n\u001b[0;32m      4\u001b[0m plt\u001b[38;5;241m.\u001b[39mplot(best_fitness_history, label\u001b[38;5;241m=\u001b[39m\u001b[38;5;124m\"\u001b[39m\u001b[38;5;124mBest Fitness\u001b[39m\u001b[38;5;124m\"\u001b[39m)\n",
      "Cell \u001b[1;32mIn[83], line 35\u001b[0m, in \u001b[0;36mgenetic_algorithm\u001b[1;34m(fitness_function, population_size, generations, elite_size, tournament_size, convergence_threshold)\u001b[0m\n\u001b[0;32m     32\u001b[0m crossover_rate \u001b[38;5;241m=\u001b[39m adaptive_crossover_rate(generation, generations)\n\u001b[0;32m     34\u001b[0m \u001b[38;5;66;03m# Evaluate fitness for all individuals\u001b[39;00m\n\u001b[1;32m---> 35\u001b[0m fitness_scores \u001b[38;5;241m=\u001b[39m np\u001b[38;5;241m.\u001b[39marray([fitness_function(ind) \u001b[38;5;28;01mfor\u001b[39;00m ind \u001b[38;5;129;01min\u001b[39;00m population])\n\u001b[0;32m     37\u001b[0m \u001b[38;5;66;03m# Sort and keep top elite individuals\u001b[39;00m\n\u001b[0;32m     38\u001b[0m sorted_indices \u001b[38;5;241m=\u001b[39m np\u001b[38;5;241m.\u001b[39margsort(fitness_scores)[::\u001b[38;5;241m-\u001b[39m\u001b[38;5;241m1\u001b[39m]\n",
      "Cell \u001b[1;32mIn[83], line 35\u001b[0m, in \u001b[0;36m<listcomp>\u001b[1;34m(.0)\u001b[0m\n\u001b[0;32m     32\u001b[0m crossover_rate \u001b[38;5;241m=\u001b[39m adaptive_crossover_rate(generation, generations)\n\u001b[0;32m     34\u001b[0m \u001b[38;5;66;03m# Evaluate fitness for all individuals\u001b[39;00m\n\u001b[1;32m---> 35\u001b[0m fitness_scores \u001b[38;5;241m=\u001b[39m np\u001b[38;5;241m.\u001b[39marray([\u001b[43mfitness_function\u001b[49m\u001b[43m(\u001b[49m\u001b[43mind\u001b[49m\u001b[43m)\u001b[49m \u001b[38;5;28;01mfor\u001b[39;00m ind \u001b[38;5;129;01min\u001b[39;00m population])\n\u001b[0;32m     37\u001b[0m \u001b[38;5;66;03m# Sort and keep top elite individuals\u001b[39;00m\n\u001b[0;32m     38\u001b[0m sorted_indices \u001b[38;5;241m=\u001b[39m np\u001b[38;5;241m.\u001b[39margsort(fitness_scores)[::\u001b[38;5;241m-\u001b[39m\u001b[38;5;241m1\u001b[39m]\n",
      "Cell \u001b[1;32mIn[77], line 7\u001b[0m, in \u001b[0;36mfitness_function\u001b[1;34m(weights)\u001b[0m\n\u001b[0;32m      5\u001b[0m evaluator \u001b[38;5;241m=\u001b[39m Evaluation()\n\u001b[0;32m      6\u001b[0m \u001b[38;5;28;01mfor\u001b[39;00m fen, sf_score \u001b[38;5;129;01min\u001b[39;00m \u001b[38;5;28mzip\u001b[39m(test_fens, stockfish_scores):\n\u001b[1;32m----> 7\u001b[0m     eval_score \u001b[38;5;241m=\u001b[39m \u001b[43mevaluator\u001b[49m\u001b[38;5;241;43m.\u001b[39;49m\u001b[43mevaluate\u001b[49m\u001b[43m(\u001b[49m\u001b[43mchess\u001b[49m\u001b[38;5;241;43m.\u001b[39;49m\u001b[43mBoard\u001b[49m\u001b[43m(\u001b[49m\u001b[43mfen\u001b[49m\u001b[43m)\u001b[49m\u001b[43m)\u001b[49m\n\u001b[0;32m      8\u001b[0m     total_error \u001b[38;5;241m+\u001b[39m\u001b[38;5;241m=\u001b[39m (eval_score \u001b[38;5;241m-\u001b[39m sf_score) \u001b[38;5;241m*\u001b[39m\u001b[38;5;241m*\u001b[39m \u001b[38;5;241m2\u001b[39m\n\u001b[0;32m      9\u001b[0m \u001b[38;5;28;01mreturn\u001b[39;00m \u001b[38;5;241m-\u001b[39mtotal_error \u001b[38;5;241m/\u001b[39m \u001b[38;5;28mlen\u001b[39m(test_fens)\n",
      "File \u001b[1;32mc:\\Users\\ADMIN\\Downloads\\code\\chess\\chess-bot\\evaluation\\evaluation.py:51\u001b[0m, in \u001b[0;36mEvaluation.evaluate\u001b[1;34m(self, board)\u001b[0m\n\u001b[0;32m     44\u001b[0m black_eval\u001b[38;5;241m.\u001b[39mpiece_square_score \u001b[38;5;241m=\u001b[39m \u001b[38;5;28mself\u001b[39m\u001b[38;5;241m.\u001b[39mevaluate_piece_square_tables(\n\u001b[0;32m     45\u001b[0m     \u001b[38;5;28;01mFalse\u001b[39;00m,\n\u001b[0;32m     46\u001b[0m     white_material\u001b[38;5;241m.\u001b[39mendgame_t,\n\u001b[0;32m     47\u001b[0m     board\n\u001b[0;32m     48\u001b[0m )\n\u001b[0;32m     50\u001b[0m \u001b[38;5;66;03m# Encourage using own king to push enemy king to edge of board in winning endgame\u001b[39;00m\n\u001b[1;32m---> 51\u001b[0m white_eval\u001b[38;5;241m.\u001b[39mmop_up_score \u001b[38;5;241m=\u001b[39m \u001b[38;5;28;43mself\u001b[39;49m\u001b[38;5;241;43m.\u001b[39;49m\u001b[43mmop_up_eval\u001b[49m\u001b[43m(\u001b[49m\n\u001b[0;32m     52\u001b[0m \u001b[43m    \u001b[49m\u001b[38;5;28;43;01mTrue\u001b[39;49;00m\u001b[43m,\u001b[49m\n\u001b[0;32m     53\u001b[0m \u001b[43m    \u001b[49m\u001b[43mwhite_material\u001b[49m\u001b[43m,\u001b[49m\n\u001b[0;32m     54\u001b[0m \u001b[43m    \u001b[49m\u001b[43mblack_material\u001b[49m\u001b[43m,\u001b[49m\n\u001b[0;32m     55\u001b[0m \u001b[43m    \u001b[49m\u001b[43mboard\u001b[49m\n\u001b[0;32m     56\u001b[0m \u001b[43m\u001b[49m\u001b[43m)\u001b[49m\n\u001b[0;32m     57\u001b[0m black_eval\u001b[38;5;241m.\u001b[39mmop_up_score \u001b[38;5;241m=\u001b[39m \u001b[38;5;28mself\u001b[39m\u001b[38;5;241m.\u001b[39mmop_up_eval(\n\u001b[0;32m     58\u001b[0m     \u001b[38;5;28;01mFalse\u001b[39;00m,\n\u001b[0;32m     59\u001b[0m     black_material,\n\u001b[0;32m     60\u001b[0m     white_material,\n\u001b[0;32m     61\u001b[0m     board\n\u001b[0;32m     62\u001b[0m )\n\u001b[0;32m     64\u001b[0m white_eval\u001b[38;5;241m.\u001b[39mpawn_score \u001b[38;5;241m=\u001b[39m \u001b[38;5;28mself\u001b[39m\u001b[38;5;241m.\u001b[39mevaluate_pawns(chess\u001b[38;5;241m.\u001b[39mWHITE, board)\n",
      "File \u001b[1;32mc:\\Users\\ADMIN\\Downloads\\code\\chess\\chess-bot\\evaluation\\evaluation.py:182\u001b[0m, in \u001b[0;36mEvaluation.mop_up_eval\u001b[1;34m(self, is_white, my_material, enemy_material, board)\u001b[0m\n\u001b[0;32m    177\u001b[0m mop_up_score \u001b[38;5;241m+\u001b[39m\u001b[38;5;241m=\u001b[39m (\u001b[38;5;241m14\u001b[39m \u001b[38;5;241m-\u001b[39m orthogonal_distance) \u001b[38;5;241m*\u001b[39m \u001b[38;5;241m4\u001b[39m\n\u001b[0;32m    179\u001b[0m center_squares \u001b[38;5;241m=\u001b[39m [\n\u001b[0;32m    180\u001b[0m     chess\u001b[38;5;241m.\u001b[39msquare(\u001b[38;5;241m3\u001b[39m, \u001b[38;5;241m3\u001b[39m), chess\u001b[38;5;241m.\u001b[39msquare(\u001b[38;5;241m3\u001b[39m, \u001b[38;5;241m4\u001b[39m),\n\u001b[0;32m    181\u001b[0m     chess\u001b[38;5;241m.\u001b[39msquare(\u001b[38;5;241m4\u001b[39m, \u001b[38;5;241m3\u001b[39m), chess\u001b[38;5;241m.\u001b[39msquare(\u001b[38;5;241m4\u001b[39m, \u001b[38;5;241m4\u001b[39m)]\n\u001b[1;32m--> 182\u001b[0m centre_distance \u001b[38;5;241m=\u001b[39m \u001b[38;5;28;43mmin\u001b[39;49m\u001b[43m(\u001b[49m\n\u001b[0;32m    183\u001b[0m \u001b[43m    \u001b[49m\u001b[43mchess\u001b[49m\u001b[38;5;241;43m.\u001b[39;49m\u001b[43msquare_manhattan_distance\u001b[49m\u001b[43m(\u001b[49m\u001b[43mopponent_king_square\u001b[49m\u001b[43m,\u001b[49m\u001b[43m \u001b[49m\u001b[43mcenter_square\u001b[49m\u001b[43m)\u001b[49m\n\u001b[0;32m    184\u001b[0m \u001b[43m    \u001b[49m\u001b[38;5;28;43;01mfor\u001b[39;49;00m\u001b[43m \u001b[49m\u001b[43mcenter_square\u001b[49m\u001b[43m \u001b[49m\u001b[38;5;129;43;01min\u001b[39;49;00m\u001b[43m \u001b[49m\u001b[43mcenter_squares\u001b[49m\n\u001b[0;32m    185\u001b[0m \u001b[43m\u001b[49m\u001b[43m)\u001b[49m\n\u001b[0;32m    186\u001b[0m mop_up_score \u001b[38;5;241m+\u001b[39m\u001b[38;5;241m=\u001b[39m centre_distance \u001b[38;5;241m*\u001b[39m \u001b[38;5;241m10\u001b[39m\n\u001b[0;32m    187\u001b[0m \u001b[38;5;28;01mreturn\u001b[39;00m \u001b[38;5;28mint\u001b[39m(mop_up_score \u001b[38;5;241m*\u001b[39m enemy_material\u001b[38;5;241m.\u001b[39mendgame_t)\n",
      "File \u001b[1;32mc:\\Users\\ADMIN\\Downloads\\code\\chess\\chess-bot\\evaluation\\evaluation.py:183\u001b[0m, in \u001b[0;36m<genexpr>\u001b[1;34m(.0)\u001b[0m\n\u001b[0;32m    177\u001b[0m mop_up_score \u001b[38;5;241m+\u001b[39m\u001b[38;5;241m=\u001b[39m (\u001b[38;5;241m14\u001b[39m \u001b[38;5;241m-\u001b[39m orthogonal_distance) \u001b[38;5;241m*\u001b[39m \u001b[38;5;241m4\u001b[39m\n\u001b[0;32m    179\u001b[0m center_squares \u001b[38;5;241m=\u001b[39m [\n\u001b[0;32m    180\u001b[0m     chess\u001b[38;5;241m.\u001b[39msquare(\u001b[38;5;241m3\u001b[39m, \u001b[38;5;241m3\u001b[39m), chess\u001b[38;5;241m.\u001b[39msquare(\u001b[38;5;241m3\u001b[39m, \u001b[38;5;241m4\u001b[39m),\n\u001b[0;32m    181\u001b[0m     chess\u001b[38;5;241m.\u001b[39msquare(\u001b[38;5;241m4\u001b[39m, \u001b[38;5;241m3\u001b[39m), chess\u001b[38;5;241m.\u001b[39msquare(\u001b[38;5;241m4\u001b[39m, \u001b[38;5;241m4\u001b[39m)]\n\u001b[0;32m    182\u001b[0m centre_distance \u001b[38;5;241m=\u001b[39m \u001b[38;5;28mmin\u001b[39m(\n\u001b[1;32m--> 183\u001b[0m     \u001b[43mchess\u001b[49m\u001b[38;5;241;43m.\u001b[39;49m\u001b[43msquare_manhattan_distance\u001b[49m\u001b[43m(\u001b[49m\u001b[43mopponent_king_square\u001b[49m\u001b[43m,\u001b[49m\u001b[43m \u001b[49m\u001b[43mcenter_square\u001b[49m\u001b[43m)\u001b[49m\n\u001b[0;32m    184\u001b[0m     \u001b[38;5;28;01mfor\u001b[39;00m center_square \u001b[38;5;129;01min\u001b[39;00m center_squares\n\u001b[0;32m    185\u001b[0m )\n\u001b[0;32m    186\u001b[0m mop_up_score \u001b[38;5;241m+\u001b[39m\u001b[38;5;241m=\u001b[39m centre_distance \u001b[38;5;241m*\u001b[39m \u001b[38;5;241m10\u001b[39m\n\u001b[0;32m    187\u001b[0m \u001b[38;5;28;01mreturn\u001b[39;00m \u001b[38;5;28mint\u001b[39m(mop_up_score \u001b[38;5;241m*\u001b[39m enemy_material\u001b[38;5;241m.\u001b[39mendgame_t)\n",
      "File \u001b[1;32mc:\\Users\\ADMIN\\Downloads\\code\\chess\\chess-bot\\.venv\\lib\\site-packages\\chess\\__init__.py:276\u001b[0m, in \u001b[0;36msquare_manhattan_distance\u001b[1;34m(a, b)\u001b[0m\n\u001b[0;32m    272\u001b[0m \u001b[38;5;28;01mdef\u001b[39;00m\u001b[38;5;250m \u001b[39m\u001b[38;5;21msquare_manhattan_distance\u001b[39m(a: Square, b: Square) \u001b[38;5;241m-\u001b[39m\u001b[38;5;241m>\u001b[39m \u001b[38;5;28mint\u001b[39m:\n\u001b[0;32m    273\u001b[0m \u001b[38;5;250m    \u001b[39m\u001b[38;5;124;03m\"\"\"\u001b[39;00m\n\u001b[0;32m    274\u001b[0m \u001b[38;5;124;03m    Gets the Manhattan/Taxicab distance (i.e., the number of orthogonal king steps) from square *a* to *b*.\u001b[39;00m\n\u001b[0;32m    275\u001b[0m \u001b[38;5;124;03m    \"\"\"\u001b[39;00m\n\u001b[1;32m--> 276\u001b[0m     \u001b[38;5;28;01mreturn\u001b[39;00m \u001b[38;5;28mabs\u001b[39m(\u001b[43msquare_file\u001b[49m\u001b[43m(\u001b[49m\u001b[43ma\u001b[49m\u001b[43m)\u001b[49m \u001b[38;5;241m-\u001b[39m square_file(b)) \u001b[38;5;241m+\u001b[39m \u001b[38;5;28mabs\u001b[39m(square_rank(a) \u001b[38;5;241m-\u001b[39m square_rank(b))\n",
      "File \u001b[1;32mc:\\Users\\ADMIN\\Downloads\\code\\chess\\chess-bot\\.venv\\lib\\site-packages\\chess\\__init__.py:258\u001b[0m, in \u001b[0;36msquare_file\u001b[1;34m(square)\u001b[0m\n\u001b[0;32m    255\u001b[0m \u001b[38;5;250m    \u001b[39m\u001b[38;5;124;03m\"\"\"Gets a square number by file and rank index.\"\"\"\u001b[39;00m\n\u001b[0;32m    256\u001b[0m     \u001b[38;5;28;01mreturn\u001b[39;00m rank_index \u001b[38;5;241m*\u001b[39m \u001b[38;5;241m8\u001b[39m \u001b[38;5;241m+\u001b[39m file_index\n\u001b[1;32m--> 258\u001b[0m \u001b[38;5;28;01mdef\u001b[39;00m\u001b[38;5;250m \u001b[39m\u001b[38;5;21msquare_file\u001b[39m(square: Square) \u001b[38;5;241m-\u001b[39m\u001b[38;5;241m>\u001b[39m \u001b[38;5;28mint\u001b[39m:\n\u001b[0;32m    259\u001b[0m \u001b[38;5;250m    \u001b[39m\u001b[38;5;124;03m\"\"\"Gets the file index of the square where ``0`` is the a-file.\"\"\"\u001b[39;00m\n\u001b[0;32m    260\u001b[0m     \u001b[38;5;28;01mreturn\u001b[39;00m square \u001b[38;5;241m&\u001b[39m \u001b[38;5;241m7\u001b[39m\n",
      "\u001b[1;31mKeyboardInterrupt\u001b[0m: "
     ]
    }
   ],
   "source": [
    "best_weights, best_fitness_history = genetic_algorithm(fitness_function, population_size=200, generations=50, elite_size=25, convergence_threshold=5)\n",
    "\n",
    "# Plot Convergence Graph\n",
    "plt.plot(best_fitness_history, label=\"Best Fitness\")\n",
    "plt.xlabel(\"Generation\")\n",
    "plt.ylabel(\"Fitness Score\")\n",
    "plt.title(\"Genetic Algorithm Convergence\")\n",
    "plt.legend()\n",
    "plt.show()\n",
    "\n",
    "print(\"Optimized Weights:\", best_weights)\n",
    "\n",
    "PieceSquareTable.update(best_weights)\n",
    "PieceSquareTable.save_to_json(PieceSquareTable.path)\n",
    "Evaluation.update(best_weights)\n",
    "Evaluation.save_to_json(Evaluation.path)\n",
    "#cai chromosomes nay de lam j\n",
    "chromosomes = [\n",
    "                1.0, 0.8, -1.2, 0.7, 1.15,\n",
    "                100, 300, 320, 500, 900, 10000,\n",
    "                10, 10,\n",
    "                20,\n",
    "                5,\n",
    "                10\n",
    "            ]\n",
    "print(\"Suggested weights fitness:\", fitness_function(best_weights))"
   ]
  }
 ],
 "metadata": {
  "kernelspec": {
   "display_name": ".venv",
   "language": "python",
   "name": "python3"
  },
  "language_info": {
   "codemirror_mode": {
    "name": "ipython",
    "version": 3
   },
   "file_extension": ".py",
   "mimetype": "text/x-python",
   "name": "python",
   "nbconvert_exporter": "python",
   "pygments_lexer": "ipython3",
   "version": "3.10.11"
  }
 },
 "nbformat": 4,
 "nbformat_minor": 2
}
