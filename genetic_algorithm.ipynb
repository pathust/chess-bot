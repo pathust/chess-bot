{
 "cells": [
  {
   "cell_type": "markdown",
   "metadata": {},
   "source": [
    "# Chuẩn bị"
   ]
  },
  {
   "cell_type": "markdown",
   "metadata": {},
   "source": [
    "\n",
    "1. Tải Stockfish từ trang chính thức: https://stockfishchess.org/download/\n",
    "\n",
    "2. Sau khi tải về, đổi tên file `.exe` thành `stockfish`\n",
    "\n",
    "3. Di chuyển file này vào thư mục: `chess-bot/.venv/bin/`\n",
    "\n",
    "4. Tải dataset từ https://www.kaggle.com/code/gabrielhaselhurst/chess-dataset/input\n",
    "\n",
    "5. Di chuyển file này vào thư mục chess-bot\n",
    "\n",
    "6. Vào evaluation vô hiệu 2 dòng hàm load_from_json() trong hàm __init__()."
   ]
  },
  {
   "cell_type": "markdown",
   "metadata": {},
   "source": [
    "## Import thư viện cần thiết"
   ]
  },
  {
   "cell_type": "code",
   "execution_count": 11,
   "metadata": {},
   "outputs": [],
   "source": [
    "from stockfish import Stockfish\n",
    "import numpy as np\n",
    "import matplotlib.pyplot as plt\n",
    "import chess\n",
    "import chess.svg\n",
    "from typing import List\n",
    "import pandas as pd\n",
    "from IPython.display import display, SVG, HTML\n",
    "import math\n",
    "from evaluation.evaluation import Evaluation\n",
    "from evaluation.piece_square_table import PieceSquareTable\n"
   ]
  },
  {
   "cell_type": "markdown",
   "metadata": {},
   "source": [
    "## Config đường dẫn"
   ]
  },
  {
   "cell_type": "code",
   "execution_count": 12,
   "metadata": {},
   "outputs": [],
   "source": [
    "stockfish_path = \".venv/bin/stockfish\"\n",
    "# stockfish_path = \".venv/Scripts/stockfish.exe\""
   ]
  },
  {
   "cell_type": "markdown",
   "metadata": {},
   "source": [
    "## Stockfish Engine"
   ]
  },
  {
   "cell_type": "code",
   "execution_count": 13,
   "metadata": {},
   "outputs": [],
   "source": [
    "stockfish = Stockfish(stockfish_path)\n",
    "stockfish.set_skill_level(20)\n",
    "stockfish.set_depth(1)"
   ]
  },
  {
   "cell_type": "code",
   "execution_count": 14,
   "metadata": {},
   "outputs": [],
   "source": [
    "def get_stockfish_score(fen: str) -> float:\n",
    "    stockfish.set_fen_position(fen)\n",
    "    score = stockfish.get_evaluation()\n",
    "    return score[\"value\"]"
   ]
  },
  {
   "cell_type": "markdown",
   "metadata": {},
   "source": [
    "## Lấy tập dữ liệu"
   ]
  },
  {
   "cell_type": "code",
   "execution_count": null,
   "metadata": {},
   "outputs": [
    {
     "data": {
      "text/html": [
       "<div>\n",
       "<style scoped>\n",
       "    .dataframe tbody tr th:only-of-type {\n",
       "        vertical-align: middle;\n",
       "    }\n",
       "\n",
       "    .dataframe tbody tr th {\n",
       "        vertical-align: top;\n",
       "    }\n",
       "\n",
       "    .dataframe thead th {\n",
       "        text-align: right;\n",
       "    }\n",
       "</style>\n",
       "<table border=\"1\" class=\"dataframe\">\n",
       "  <thead>\n",
       "    <tr style=\"text-align: right;\">\n",
       "      <th></th>\n",
       "      <th>Unnamed: 0.6</th>\n",
       "      <th>Unnamed: 0.5</th>\n",
       "      <th>Unnamed: 0.4</th>\n",
       "      <th>Unnamed: 0.3</th>\n",
       "      <th>Unnamed: 0.2</th>\n",
       "      <th>Unnamed: 0.1</th>\n",
       "      <th>Unnamed: 0</th>\n",
       "      <th>FEN</th>\n",
       "      <th>Evaluation</th>\n",
       "    </tr>\n",
       "  </thead>\n",
       "  <tbody>\n",
       "    <tr>\n",
       "      <th>0</th>\n",
       "      <td>8</td>\n",
       "      <td>4</td>\n",
       "      <td>3</td>\n",
       "      <td>6</td>\n",
       "      <td>0</td>\n",
       "      <td>13983</td>\n",
       "      <td>3435177</td>\n",
       "      <td>1r1q1rk1/p1nnp1bp/b2p1pp1/2pP4/P1B1P3/2B2N1P/1...</td>\n",
       "      <td>103</td>\n",
       "    </tr>\n",
       "    <tr>\n",
       "      <th>1</th>\n",
       "      <td>2</td>\n",
       "      <td>5</td>\n",
       "      <td>1</td>\n",
       "      <td>2</td>\n",
       "      <td>5</td>\n",
       "      <td>1570</td>\n",
       "      <td>3156714</td>\n",
       "      <td>8/1k6/7R/8/PNb2P1P/2P5/1K5r/8 w - - 5 65</td>\n",
       "      <td>382</td>\n",
       "    </tr>\n",
       "    <tr>\n",
       "      <th>2</th>\n",
       "      <td>5</td>\n",
       "      <td>1</td>\n",
       "      <td>2</td>\n",
       "      <td>5</td>\n",
       "      <td>1</td>\n",
       "      <td>822</td>\n",
       "      <td>7754520</td>\n",
       "      <td>3r4/p4rpk/2Qbb3/5p2/1P5q/P3P2P/1B3PP1/R4RK1 b ...</td>\n",
       "      <td>-267</td>\n",
       "    </tr>\n",
       "    <tr>\n",
       "      <th>3</th>\n",
       "      <td>6</td>\n",
       "      <td>0</td>\n",
       "      <td>8</td>\n",
       "      <td>4</td>\n",
       "      <td>3</td>\n",
       "      <td>9656</td>\n",
       "      <td>11934616</td>\n",
       "      <td>r2r2k1/p1q1b1n1/2pp1pb1/4pNp1/N1P1P1Pp/1P1Q1P1...</td>\n",
       "      <td>44</td>\n",
       "    </tr>\n",
       "    <tr>\n",
       "      <th>4</th>\n",
       "      <td>3</td>\n",
       "      <td>6</td>\n",
       "      <td>0</td>\n",
       "      <td>8</td>\n",
       "      <td>4</td>\n",
       "      <td>13497</td>\n",
       "      <td>10796569</td>\n",
       "      <td>r1b2rk1/1p1nqpbn/2p3pp/p3p3/2P1P3/PPN2NPP/2Q2P...</td>\n",
       "      <td>6</td>\n",
       "    </tr>\n",
       "  </tbody>\n",
       "</table>\n",
       "</div>"
      ],
      "text/plain": [
       "   Unnamed: 0.6  Unnamed: 0.5  Unnamed: 0.4  Unnamed: 0.3  Unnamed: 0.2  \\\n",
       "0             8             4             3             6             0   \n",
       "1             2             5             1             2             5   \n",
       "2             5             1             2             5             1   \n",
       "3             6             0             8             4             3   \n",
       "4             3             6             0             8             4   \n",
       "\n",
       "   Unnamed: 0.1  Unnamed: 0  \\\n",
       "0         13983     3435177   \n",
       "1          1570     3156714   \n",
       "2           822     7754520   \n",
       "3          9656    11934616   \n",
       "4         13497    10796569   \n",
       "\n",
       "                                                 FEN  Evaluation  \n",
       "0  1r1q1rk1/p1nnp1bp/b2p1pp1/2pP4/P1B1P3/2B2N1P/1...         103  \n",
       "1           8/1k6/7R/8/PNb2P1P/2P5/1K5r/8 w - - 5 65         382  \n",
       "2  3r4/p4rpk/2Qbb3/5p2/1P5q/P3P2P/1B3PP1/R4RK1 b ...        -267  \n",
       "3  r2r2k1/p1q1b1n1/2pp1pb1/4pNp1/N1P1P1Pp/1P1Q1P1...          44  \n",
       "4  r1b2rk1/1p1nqpbn/2p3pp/p3p3/2P1P3/PPN2NPP/2Q2P...           6  "
      ]
     },
     "execution_count": 15,
     "metadata": {},
     "output_type": "execute_result"
    }
   ],
   "source": [
    "df = pd.read_csv('chessData.csv')\n",
    "df.head()"
   ]
  },
  {
   "cell_type": "code",
   "execution_count": null,
   "metadata": {},
   "outputs": [
    {
     "name": "stdout",
     "output_type": "stream",
     "text": [
      "[66, -267, 320, 210, 44, 382, 103, -263, 6, -199]\n",
      "402\n"
     ]
    }
   ],
   "source": [
    "sampled_df = df.sample(n=1000, random_state=10)\n",
    "test_fens = sampled_df['FEN'].to_list()\n",
    "\"\"\"stockfish_scores = (\n",
    "    sampled_df['Evaluation']\n",
    "    .astype(str)\n",
    "    .str.replace(\"+\", \"\", regex=False)\n",
    "    .str.extract(r'([-]?\\d+)')[0]\n",
    "    .astype(float)\n",
    "    .fillna(0)\n",
    "    .astype(int)\n",
    "    .tolist()\n",
    ")\"\"\"\n",
    "stockfish_scores = [get_stockfish_score(fen) for fen in test_fens]\n",
    "\n",
    "\n",
    "print(stockfish_scores)\n",
    "print(sum(stockfish_scores))"
   ]
  },
  {
   "cell_type": "code",
   "execution_count": 17,
   "metadata": {},
   "outputs": [],
   "source": [
    "sampled_df['Evaluation'] = stockfish_scores\n",
    "sampled_df.to_csv(\"sample.csv\")"
   ]
  },
  {
   "cell_type": "markdown",
   "metadata": {},
   "source": [
    "## Visualization"
   ]
  },
  {
   "cell_type": "code",
   "execution_count": 18,
   "metadata": {},
   "outputs": [],
   "source": [
    "def showBoard(fens, boards_per_row=5):\n",
    "    total_boards = len(fens)\n",
    "    rows = math.ceil(total_boards / boards_per_row)\n",
    "    \n",
    "    for row in range(rows):\n",
    "        boards_in_row = []\n",
    "        for col in range(boards_per_row):\n",
    "            idx = row * boards_per_row + col\n",
    "            if idx < total_boards:\n",
    "                board = chess.Board(fens[idx])\n",
    "                svg = chess.svg.board(board, size=200)  # Giảm size nếu cần\n",
    "                boards_in_row.append(SVG(svg)._repr_svg_())  # Lấy chuỗi SVG\n",
    "        \n",
    "        # Tạo HTML với flexbox để xếp hàng ngang\n",
    "        html = f\"\"\"\n",
    "        <div style=\"display: flex; flex-wrap: nowrap; gap: 10px; margin: 10px 0;\">\n",
    "            {''.join(boards_in_row)}\n",
    "        </div>\n",
    "        \"\"\"\n",
    "        display(HTML(html))"
   ]
  },
  {
   "cell_type": "code",
   "execution_count": 19,
   "metadata": {},
   "outputs": [],
   "source": [
    "#showBoard(df.sample(n=50, random_state=42)['FEN'].to_list())"
   ]
  },
  {
   "cell_type": "markdown",
   "metadata": {},
   "source": [
    "# 1. Initialization"
   ]
  },
  {
   "cell_type": "code",
   "execution_count": 20,
   "metadata": {},
   "outputs": [],
   "source": [
    "evaluation_length = len(Evaluation.to_array())\n",
    "def initialize_population(size: int):\n",
    "    \"\"\"\n",
    "    Initialize a population with chess-specific value ranges.\n",
    "    \n",
    "    - The first 5 parameters (evaluation weights) are floating-point numbers.\n",
    "    - The remaining parameters (piece values, penalties, multipliers) are integers.\n",
    "\n",
    "    Args:\n",
    "        size (int): Number of individuals in the population.\n",
    "\n",
    "    Returns:\n",
    "        np.ndarray: Population matrix (size, num_params) with meaningful bounds.\n",
    "    \"\"\"\n",
    "    origin_array = Evaluation.to_array()  \n",
    "    # Define bounds for each gene type\n",
    "    bounds = []\n",
    "    for value in origin_array:\n",
    "\n",
    "        lower_bound = min(int(value * 0.8),int(value * 1.2)) \n",
    "        upper_bound = max(int(value * 0.8),int(value * 1.2))\n",
    "        bounds.append([lower_bound, upper_bound])\n",
    "\n",
    "\n",
    "    num_params = len(bounds)\n",
    "\n",
    "    # Generate population matrix\n",
    "    population = np.zeros((size, num_params))\n",
    "\n",
    "    for i in range(num_params):\n",
    "        low, high = bounds[i]\n",
    "        population[:, i] = np.random.randint(low, high + 1, size=size)\n",
    "    return population\n",
    "\n"
   ]
  },
  {
   "cell_type": "markdown",
   "metadata": {},
   "source": [
    "# Fitness function"
   ]
  },
  {
   "cell_type": "code",
   "execution_count": 21,
   "metadata": {},
   "outputs": [],
   "source": [
    "from bisect import bisect_left\n",
    "from typing import List\n",
    "\n",
    "class FenwickTree:\n",
    "    def __init__(self, size):\n",
    "        self.n = size + 2\n",
    "        self.tree = [0] * self.n\n",
    "\n",
    "    def update(self, index, value):\n",
    "        index += 1\n",
    "        while index < self.n:\n",
    "            self.tree[index] += value\n",
    "            index += index & -index\n",
    "\n",
    "    def query(self, index):\n",
    "        index += 1\n",
    "        result = 0\n",
    "        while index:\n",
    "            result += self.tree[index]\n",
    "            index -= index & -index\n",
    "        return result\n",
    "\n",
    "def compute_inversion_cost(A: List[int], B: List[int]) -> int:\n",
    "    n = len(A)\n",
    "    zipped = list(zip(A, B))\n",
    "    zipped.sort()  # Sort A tăng\n",
    "\n",
    "    # Nén giá trị B lại cho nhỏ để dùng Fenwick Tree\n",
    "    sorted_B = sorted(set(B))\n",
    "    B_to_idx = {b: i for i, b in enumerate(sorted_B)}\n",
    "\n",
    "    bit = FenwickTree(len(sorted_B))\n",
    "    cost = 0\n",
    "\n",
    "    for _, b in zipped:\n",
    "        idx = B_to_idx[b]\n",
    "        # Tổng số B đã xét - số lượng B <= b\n",
    "        cost += bit.query(len(sorted_B) - 1) - bit.query(idx)\n",
    "        bit.update(idx, 1)\n",
    "\n",
    "    return cost"
   ]
  },
  {
   "cell_type": "code",
   "execution_count": 22,
   "metadata": {},
   "outputs": [
    {
     "name": "stdout",
     "output_type": "stream",
     "text": [
      "[np.int64(-80), np.int64(-30), np.int64(60), np.int64(-20), np.int64(15), np.int64(140), np.int64(90), np.int64(60), np.int64(60), np.int64(-235)]\n",
      "/n\n",
      "[66, -267, 320, 210, 44, 382, 103, -263, 6, -199]\n",
      "-13\n"
     ]
    }
   ],
   "source": [
    "temp = 0\n",
    "def fitness_function(weights: List[float]) -> float:\n",
    "    Evaluation.update(weights)\n",
    "    evaluator = Evaluation()\n",
    "    \n",
    "    evals = []\n",
    "    for fen in test_fens:\n",
    "        eval_score = evaluator.evaluate(chess.Board(fen))\n",
    "        evals.append(eval_score)\n",
    "\n",
    "    global temp\n",
    "    if(temp == 0):\n",
    "        print(evals)\n",
    "        print(\"/n\")\n",
    "        print(stockfish_scores)\n",
    "        temp = 2\n",
    "        \n",
    "    inversion_cost = compute_inversion_cost(evals, stockfish_scores)\n",
    "    \n",
    "    return -inversion_cost  # Càng ít nghịch đảo, fitness càng cao\n",
    "\n",
    "array1 = PieceSquareTable.tables_to_array()  \n",
    "array2 = Evaluation.to_array()  \n",
    "origin_array = np.concatenate((array1, array2))\n",
    "print(fitness_function(origin_array))"
   ]
  },
  {
   "cell_type": "markdown",
   "metadata": {},
   "source": [
    "# Selection"
   ]
  },
  {
   "cell_type": "code",
   "execution_count": 23,
   "metadata": {},
   "outputs": [],
   "source": [
    "def tournament_selection(population, fitness_scores, tournament_size=5):\n",
    "    \"\"\"\n",
    "    Selects a parent using tournament selection.\n",
    "\n",
    "    Args:\n",
    "        population (np.array): Population of individuals.\n",
    "        fitness_scores (np.array): Fitness scores of individuals.\n",
    "        tournament_size (int): Number of individuals in the tournament.\n",
    "\n",
    "    Returns:\n",
    "        np.array: Selected individual.\n",
    "    \"\"\"\n",
    "    selected_indices = np.random.choice(len(population), tournament_size, replace=False)\n",
    "    best_index = selected_indices[np.argmax(fitness_scores[selected_indices])]\n",
    "    return population[best_index]"
   ]
  },
  {
   "cell_type": "markdown",
   "metadata": {},
   "source": [
    "# Crossover"
   ]
  },
  {
   "cell_type": "code",
   "execution_count": 24,
   "metadata": {},
   "outputs": [],
   "source": [
    "def crossover_mixed(parent1, parent2, alpha=0.4, crossover_rate=0.5):\n",
    "    \"\"\"\n",
    "    Perform crossover with an adaptive probability.\n",
    "\n",
    "    Args:\n",
    "        parent1 (np.array): First parent.\n",
    "        parent2 (np.array): Second parent.\n",
    "        alpha (float): Alpha parameter for BLX-α crossover (for floats).\n",
    "        crossover_rate (float): Probability of crossover.\n",
    "\n",
    "    Returns:\n",
    "        np.array: Child with mixed-type values.\n",
    "    \"\"\"\n",
    "    p1, p2 = np.array(parent1), np.array(parent2)\n",
    "    child = np.zeros_like(p1)\n",
    "\n",
    "    for i in range(len(p1)):\n",
    "        if np.random.rand() < crossover_rate:  # Perform crossover with given probability\n",
    "            min_val, max_val = min(p1[i], p2[i]), max(p1[i], p2[i])\n",
    "            range_val = max_val - min_val\n",
    "            child[i] = int(min_val - alpha * range_val + np.random.rand() * (1 + 2 * alpha) * range_val)\n",
    "            #remove int if wanna it is float number\n",
    "        else:\n",
    "            child[i] = np.random.choice([p1[i], p2[i]])  # Inherit directly from a parent\n",
    "\n",
    "    return child\n"
   ]
  },
  {
   "cell_type": "markdown",
   "metadata": {},
   "source": [
    "# Mutation"
   ]
  },
  {
   "cell_type": "code",
   "execution_count": 25,
   "metadata": {},
   "outputs": [],
   "source": [
    "def mutate_propotion(individual, strength = 0.3):\n",
    "    mutated = np.copy(individual)\n",
    "    rate1=np.random.uniform(0.7, 1.3)\n",
    "    for i in range (piece_square_table_length):\n",
    "        mutated[i] *= rate1\n",
    "\n",
    "    rate2=np.random.uniform(0.7, 1.3)\n",
    "    for i in range (piece_square_table_length,piece_square_table_length+evaluation_length):\n",
    "        mutated[i] *= rate2\n",
    "    \n",
    "    return mutated\n",
    "\n"
   ]
  },
  {
   "cell_type": "code",
   "execution_count": 26,
   "metadata": {},
   "outputs": [],
   "source": [
    "def mutate_mixed(individual, mutation_rate=0.3,strength = 0.3):\n",
    "    \"\"\"\n",
    "    Apply adaptive mutation to floating-point and integer genes.\n",
    "\n",
    "    Args:\n",
    "        individual (np.array): Individual's genes.\n",
    "        mutation_rate (float): Probability of mutation.\n",
    "\n",
    "    Returns:\n",
    "        np.array: Mutated individual.\n",
    "    \"\"\"\n",
    "    mutated = np.copy(individual)\n",
    "    #maybe use can strength instead of 1,0,-1 \n",
    "    for i in range(len(individual)):\n",
    "        if np.random.rand() < mutation_rate:  # Mutation occurs with probability\n",
    "            mutate_range = math.ceil(abs(mutated[i])) * strength\n",
    "            step = np.random.normal(loc=0.0, scale=mutate_range) #hàm theo phân phối gauss            \n",
    "            mutated[i] += step\n",
    "            mutated[i] = int(mutated[i])\n",
    "\n",
    "    return mutated\n"
   ]
  },
  {
   "cell_type": "code",
   "execution_count": 27,
   "metadata": {},
   "outputs": [],
   "source": [
    "def adaptive_mutation_rate(generation, max_generations, min_rate=0.005, max_rate=0.25, decay_factor=1.2):\n",
    "    \"\"\"\n",
    "    Adaptive mutation rate: Decreases as generations progress.\n",
    "    \"\"\"\n",
    "    return max_rate * (1 - (generation / max_generations))**decay_factor + min_rate"
   ]
  },
  {
   "cell_type": "code",
   "execution_count": 28,
   "metadata": {},
   "outputs": [],
   "source": [
    "\n",
    "def adaptive_crossover_rate(generation, max_generations, min_rate=0.4, max_rate=0.7):\n",
    "    \"\"\"\n",
    "    Adaptive crossover rate: Increases as generations progress.\n",
    "    \"\"\"\n",
    "    return min_rate + (max_rate - min_rate) * (generation / max_generations)\n"
   ]
  },
  {
   "cell_type": "markdown",
   "metadata": {},
   "source": [
    "# GA"
   ]
  },
  {
   "cell_type": "code",
   "execution_count": 29,
   "metadata": {},
   "outputs": [],
   "source": [
    "def genetic_algorithm(\n",
    "    fitness_function,\n",
    "    population_size=200,\n",
    "    property_generations = 0,\n",
    "    generations=100,\n",
    "    elite_size=7,\n",
    "    tournament_size=4,\n",
    "    convergence_threshold=10,\n",
    "    epxilon = 0.005\n",
    "):\n",
    "    \"\"\"\n",
    "    Runs an optimized Genetic Algorithm with adaptive mutation and crossover rates.\n",
    "\n",
    "    Args:\n",
    "        fitness_function (function): Function to evaluate individuals.\n",
    "        population_size (int): Number of individuals.\n",
    "        generations (int): Max number of generations.\n",
    "        elite_size (int): Number of top individuals retained.\n",
    "        tournament_size (int): Tournament selection group size.\n",
    "        convergence_threshold (int): Stop early if no improvement.\n",
    "        epxilon (double): count no improvement if can better epxilon time\n",
    "\n",
    "    Returns:\n",
    "        np.ndarray: Best found individual.\n",
    "        list: Fitness score history.\n",
    "    \"\"\"\n",
    "    population = initialize_population(population_size)\n",
    "    best_fitness_history = []\n",
    "    best_fitness = -np.inf\n",
    "    no_improvement_count = 0\n",
    "    step = 1 if property_generations != 0 else 2\n",
    "\n",
    "    for generation in range(generations):\n",
    "        # Adaptive rates\n",
    "        mutation_rate = adaptive_mutation_rate(generation, generations)\n",
    "        crossover_rate = adaptive_crossover_rate(generation, generations)\n",
    "\n",
    "        # Evaluate fitness for all individuals\n",
    "        fitness_scores = np.array([fitness_function(ind) for ind in population])\n",
    "\n",
    "        # Sort and keep top elite individuals\n",
    "        sorted_indices = np.argsort(fitness_scores)[::-1]\n",
    "        elite = population[sorted_indices[:elite_size]]\n",
    "\n",
    "        # Track best fitness\n",
    "        current_best_fitness = fitness_scores[sorted_indices[0]]\n",
    "        best_fitness_history.append(current_best_fitness)\n",
    "\n",
    "        # Check if fitness improved\n",
    "        #fitness is negative so -epxilon\n",
    "        if current_best_fitness > best_fitness * (1 - epxilon):\n",
    "            best_fitness = current_best_fitness\n",
    "            no_improvement_count = 0\n",
    "        else:\n",
    "            no_improvement_count += 1\n",
    "\n",
    "        if (generation == property_generations) or (no_improvement_count >= convergence_threshold and step == 1):\n",
    "            no_improvement_count = 0\n",
    "            step = 2\n",
    "            if property_generations != 0:\n",
    "                print(f\"✅ stop change properties after {generation} generations! Start normal GA.\")\n",
    "\n",
    "        # Stop early if fitness has not improved\n",
    "        if no_improvement_count >= convergence_threshold and step == 2:\n",
    "            print(f\"✅ Converged after {generation+1} generations! Stopping early.\")\n",
    "            break\n",
    "\n",
    "        # Generate new population\n",
    "        new_population = []\n",
    "        if step == 2:\n",
    "            for _ in range(population_size - elite_size):\n",
    "                p1 = tournament_selection(population, fitness_scores, tournament_size)\n",
    "                p2 = tournament_selection(population, fitness_scores, tournament_size)\n",
    "                child = crossover_mixed(p1, p2, crossover_rate=crossover_rate)\n",
    "                child = mutate_mixed(child, mutation_rate, 0.1)\n",
    "                new_population.append(child)\n",
    "        elif step == 1:\n",
    "            for _ in range(population_size - elite_size):\n",
    "                #chi can 1 ca the vi dang nao cung la tim ti le 2\n",
    "                p = tournament_selection(population, fitness_scores, tournament_size)\n",
    "                child = mutate_propotion(p)\n",
    "                new_population.append(child)\n",
    "\n",
    "        # Create next generation\n",
    "        population = np.vstack((elite, new_population))\n",
    "\n",
    "        print(f\"Generation {generation+1}: Best Fitness = {current_best_fitness:.3f}, Mutation Rate = {mutation_rate:.3f}, Crossover Rate = {crossover_rate:.3f}\")\n",
    "\n",
    "    return population[0], best_fitness_history\n"
   ]
  },
  {
   "cell_type": "markdown",
   "metadata": {},
   "source": [
    "# Tuning"
   ]
  },
  {
   "cell_type": "code",
   "execution_count": 31,
   "metadata": {},
   "outputs": [
    {
     "name": "stdout",
     "output_type": "stream",
     "text": [
      "[np.float64(-62.0), np.float64(-30.0), np.float64(60.0), np.float64(-20.0), np.float64(15.0), np.float64(118.0), np.float64(90.0), np.float64(58.0), np.float64(60.0), np.float64(-211.0)]\n",
      "/n\n",
      "[66, -267, 320, 210, 44, 382, 103, -263, 6, -199]\n",
      "Generation 1: Best Fitness = -13.000, Mutation Rate = 0.255, Crossover Rate = 0.400\n",
      "Generation 2: Best Fitness = -13.000, Mutation Rate = 0.251, Crossover Rate = 0.404\n",
      "Generation 3: Best Fitness = -13.000, Mutation Rate = 0.248, Crossover Rate = 0.408\n",
      "Generation 4: Best Fitness = -13.000, Mutation Rate = 0.244, Crossover Rate = 0.411\n",
      "Generation 5: Best Fitness = -13.000, Mutation Rate = 0.240, Crossover Rate = 0.415\n",
      "✅ Converged after 6 generations! Stopping early.\n"
     ]
    },
    {
     "data": {
      "image/png": "[encoded data removed]",
      "text/plain": [
       "<Figure size 640x480 with 1 Axes>"
      ]
     },
     "metadata": {},
     "output_type": "display_data"
    },
    {
     "name": "stdout",
     "output_type": "stream",
     "text": [
      "Optimized Weights: [ 0.  0.  0.  0.  0.  0.  0.  0. 33. 46. 39. 38. 29. 37. 39. 43.  9.  8.]\n"
     ]
    }
   ],
   "source": [
    "best_weights, best_fitness_history = genetic_algorithm(fitness_function, population_size=150, generations=80, elite_size=7, convergence_threshold=5, epxilon = 0.002)\n",
    "\n",
    "# Plot Convergence Graph\n",
    "plt.plot(best_fitness_history, label=\"Best Fitness\")\n",
    "plt.xlabel(\"Generation\")\n",
    "plt.ylabel(\"Fitness Score\")\n",
    "plt.title(\"Genetic Algorithm Convergence\")\n",
    "plt.legend()\n",
    "plt.show()\n",
    "\n",
    "print(\"Optimized Weights:\",best_weights)\n",
    "temp = 0\n",
    "Evaluation.update(best_weights)\n",
    "Evaluation.save_to_json(Evaluation.path)"
   ]
  }
 ],
 "metadata": {
  "kernelspec": {
   "display_name": ".venv",
   "language": "python",
   "name": "python3"
  },
  "language_info": {
   "codemirror_mode": {
    "name": "ipython",
    "version": 3
   },
   "file_extension": ".py",
   "mimetype": "text/x-python",
   "name": "python",
   "nbconvert_exporter": "python",
   "pygments_lexer": "ipython3",
   "version": "3.10.11"
  }
 },
 "nbformat": 4,
 "nbformat_minor": 2
}
